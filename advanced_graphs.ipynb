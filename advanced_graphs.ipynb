{
 "cells": [
  {
   "cell_type": "code",
   "execution_count": null,
   "metadata": {
    "collapsed": true,
    "pycharm": {
     "name": "#%%\n"
    }
   },
   "outputs": [],
   "source": [
    "from typing import List\n",
    "import heapq\n",
    "import collections"
   ]
  },
  {
   "cell_type": "markdown",
   "source": [
    "332. Reconstruct Itinerary\n",
    "\n",
    "You are given a list of airline tickets where tickets[i] = [fromi, toi] represent the departure and the arrival airports of one flight. Reconstruct the itinerary in order and return it.\n",
    "\n",
    "All of the tickets belong to a man who departs from \"JFK\", thus, the itinerary must begin with \"JFK\". If there are multiple valid itineraries, you should return the itinerary that has the smallest lexical order when read as a single string.\n",
    "\n",
    "    For example, the itinerary [\"JFK\", \"LGA\"] has a smaller lexical order than [\"JFK\", \"LGB\"].\n",
    "\n",
    "You may assume all tickets form at least one valid itinerary. You must use all the tickets once and only once."
   ],
   "metadata": {
    "collapsed": false,
    "pycharm": {
     "name": "#%% md\n"
    }
   }
  },
  {
   "cell_type": "code",
   "execution_count": null,
   "outputs": [],
   "source": [
    "class Solution:\n",
    "    def findItinerary(self, tickets: List[List[str]]) -> List[str]:\n",
    "        adj = {src:[] for src, dst in tickets}\n",
    "        tickets.sort()\n",
    "        for src, dst in tickets:\n",
    "            adj[src].append(dst)\n",
    "        res = [\"JFK\"]\n",
    "        def dfs(src):\n",
    "            if len(res) == len(tickets) + 1:\n",
    "                return True\n",
    "            if src not in adj:\n",
    "                return False\n",
    "            copy = list(adj[src])\n",
    "            for idx, val in enumerate(copy):\n",
    "                adj[src].pop(idx)\n",
    "                res.append(val)\n",
    "\n",
    "                if dfs(val): return True\n",
    "                adj[src].insert(idx, val)\n",
    "                res.pop()\n",
    "            return False\n",
    "        dfs(\"JFK\")\n",
    "        return res"
   ],
   "metadata": {
    "collapsed": false,
    "pycharm": {
     "name": "#%%\n"
    }
   }
  },
  {
   "cell_type": "markdown",
   "source": [
    "1584. Min Cost to Connect All Points\n",
    "\n",
    "You are given an array points representing integer coordinates of some points on a 2D-plane, where points[i] = [xi, yi].\n",
    "\n",
    "The cost of connecting two points [xi, yi] and [xj, yj] is the manhattan distance between them: |xi - xj| + |yi - yj|, where |val| denotes the absolute value of val.\n",
    "\n",
    "Return the minimum cost to make all points connected. All points are connected if there is exactly one simple path between any two points."
   ],
   "metadata": {
    "collapsed": false,
    "pycharm": {
     "name": "#%% md\n"
    }
   }
  },
  {
   "cell_type": "code",
   "execution_count": null,
   "outputs": [],
   "source": [
    "    def minCostConnectPoints(self, points: List[List[int]]) -> int:\n",
    "        N = len(points)\n",
    "\n",
    "        adj = {i:[] for i in range(N)}\n",
    "        for i in range(N):\n",
    "            x1, y1 = points[i]\n",
    "            for j in range(i + 1, N):\n",
    "                x2, y2 = points[j]\n",
    "                dist = abs(x1 - x2) + abs(y1 - y2)\n",
    "                adj[i].append([dist, j])\n",
    "                adj[j].append([dist, i])\n",
    "\n",
    "        res = 0\n",
    "        visited = set()\n",
    "        minHeap = [[0, 0]]\n",
    "        while len(visited) < N:\n",
    "            cost, i = heapq.heappop(minHeap)\n",
    "            if i in visited:\n",
    "                continue\n",
    "            res += cost\n",
    "            visited.add(i)\n",
    "            for neiCost, nei in adj[i]:\n",
    "                if nei not in visited:\n",
    "                    heapq.heappush(minHeap, [neiCost, nei])\n",
    "\n",
    "        return res"
   ],
   "metadata": {
    "collapsed": false,
    "pycharm": {
     "name": "#%%\n"
    }
   }
  },
  {
   "cell_type": "markdown",
   "source": [
    "743. Network Delay Time\n",
    "\n",
    "You are given a network of n nodes, labeled from 1 to n. You are also given times, a list of travel times as directed edges times[i] = (ui, vi, wi), where ui is the source node, vi is the target node, and wi is the time it takes for a signal to travel from source to target.\n",
    "\n",
    "We will send a signal from a given node k. Return the minimum time it takes for all the n nodes to receive the signal. If it is impossible for all the n nodes to receive the signal, return -1."
   ],
   "metadata": {
    "collapsed": false,
    "pycharm": {
     "name": "#%% md\n"
    }
   }
  },
  {
   "cell_type": "code",
   "execution_count": null,
   "outputs": [],
   "source": [
    "    def networkDelayTime(self, times: List[List[int]], n: int, k: int) -> int:\n",
    "        edges = collections.defaultdict(list)\n",
    "        for u, v, w in times:\n",
    "            edges[u].append((v, w))\n",
    "        minHeap = [(0, k)]\n",
    "        visited = set()\n",
    "        res = 0\n",
    "\n",
    "        while minHeap:\n",
    "            w1, n1 = heapq.heappop(minHeap)\n",
    "            if n1 in visited:\n",
    "                continue\n",
    "            visited.add(n1)\n",
    "            res = max(res, w1)\n",
    "\n",
    "            for n2, w2 in edges[n1]:\n",
    "                if n2 not in visited:\n",
    "                    heapq.heappush(minHeap, (w1 + w2, n2))\n",
    "\n",
    "        return res if len(visited) == n else -1"
   ],
   "metadata": {
    "collapsed": false,
    "pycharm": {
     "name": "#%%\n"
    }
   }
  },
  {
   "cell_type": "markdown",
   "source": [
    "778. Swim in Rising Water\n",
    "\n",
    "You are given an n x n integer matrix grid where each value grid[i][j] represents the elevation at that point (i, j).\n",
    "\n",
    "The rain starts to fall. At time t, the depth of the water everywhere is t. You can swim from a square to another 4-directionally adjacent square if and only if the elevation of both squares individually are at most t. You can swim infinite distances in zero time. Of course, you must stay within the boundaries of the grid during your swim.\n",
    "\n",
    "Return the least time until you can reach the bottom right square (n - 1, n - 1) if you start at the top left square (0, 0)."
   ],
   "metadata": {
    "collapsed": false,
    "pycharm": {
     "name": "#%% md\n"
    }
   }
  },
  {
   "cell_type": "code",
   "execution_count": null,
   "outputs": [],
   "source": [
    "    def swimInWater(self, grid: List[List[int]]) -> int:\n",
    "        N = len(grid)\n",
    "        visited = {(0, 0)}\n",
    "        minHeap = [[grid[0][0], 0, 0]]\n",
    "        directions = [[0, 1], [0, -1], [1, 0], [-1, 0]]\n",
    "        while minHeap:\n",
    "            t, r, c = heapq.heappop(minHeap)\n",
    "            if r == N - 1 and c == N - 1:\n",
    "                return t\n",
    "            for dr, dc in directions:\n",
    "                neiR, neiC = r + dr, c + dc\n",
    "                if neiR < 0 or neiC < 0 or neiC == N or neiR == N or (neiR, neiC) in visited:\n",
    "                    continue\n",
    "                visited.add((neiR, neiC))\n",
    "                heapq.heappush(minHeap, [max(t, grid[neiR][neiC]), neiR, neiC])"
   ],
   "metadata": {
    "collapsed": false,
    "pycharm": {
     "name": "#%%\n"
    }
   }
  },
  {
   "cell_type": "markdown",
   "source": [
    "269. Alien Dictionary\n",
    "\n",
    "There is a new alien language which uses the latin alphabet. However, the order among letters are unknown to you. You receive a list of non-empty words from the dictionary, where words are sorted lexicographically by the rules of this new language. Derive the order of letters in this language.\n",
    "\n",
    "    You may assume all letters are in lowercase.\n",
    "    The dictionary is invalid, if string a is prefix of string b and b is appear before a.\n",
    "    If the order is invalid, return an empty string.\n",
    "    There may be multiple valid order of letters, return the smallest in normal lexicographical order.\n",
    "    The letters in one string are of the same rank by default and are sorted in Human dictionary order.\n"
   ],
   "metadata": {
    "collapsed": false,
    "pycharm": {
     "name": "#%% md\n"
    }
   }
  },
  {
   "cell_type": "code",
   "execution_count": null,
   "outputs": [],
   "source": [
    "    def alienOrder(self, words: List[str]) -> str:\n",
    "        adj = {char: set() for word in words for char in word}\n",
    "\n",
    "        for i in range(len(words) - 1):\n",
    "            w1, w2 = words[i], words[i + 1]\n",
    "            minLen = min(len(w1), len(w2))\n",
    "            if len(w1) > len(w2) and w1[:minLen] == w2[:minLen]:\n",
    "                return \"\"\n",
    "            for j in range(minLen):\n",
    "                if w1[j] != w2[j]:\n",
    "                    print(w1[j], w2[j])\n",
    "                    adj[w1[j]].add(w2[j])\n",
    "                    break\n",
    "\n",
    "        visited = {}  # {char: bool} False visited, True current path\n",
    "        res = []\n",
    "\n",
    "        def dfs(char):\n",
    "            if char in visited:\n",
    "                return visited[char]\n",
    "\n",
    "            visited[char] = True\n",
    "\n",
    "            for neighChar in adj[char]:\n",
    "                if dfs(neighChar):\n",
    "                    return True\n",
    "\n",
    "            visited[char] = False\n",
    "            res.append(char)\n",
    "\n",
    "        for char in adj:\n",
    "            if dfs(char):\n",
    "                return \"\"\n",
    "\n",
    "        res.reverse()\n",
    "        return \"\".join(res)"
   ],
   "metadata": {
    "collapsed": false,
    "pycharm": {
     "name": "#%%\n"
    }
   }
  },
  {
   "cell_type": "markdown",
   "source": [
    "787. Cheapest Flights Within K Stops\n",
    "\n",
    "There are n cities connected by some number of flights. You are given an array flights where flights[i] = [fromi, toi, pricei] indicates that there is a flight from city fromi to city toi with cost pricei.\n",
    "\n",
    "You are also given three integers src, dst, and k, return the cheapest price from src to dst with at most k stops. If there is no such route, return -1."
   ],
   "metadata": {
    "collapsed": false,
    "pycharm": {
     "name": "#%% md\n"
    }
   }
  },
  {
   "cell_type": "code",
   "execution_count": null,
   "outputs": [],
   "source": [
    "    def findCheapestPrice(self, n: int, flights: List[List[int]], src: int, dst: int, k: int) -> int:\n",
    "        prices = [float(\"inf\")] * n\n",
    "        prices[src] = 0\n",
    "        for i in range(k + 1):\n",
    "            tmpPrice = prices.copy()\n",
    "            for s, d, p in flights:  # source, destination, price\n",
    "                if prices[s] == float(\"inf\"):\n",
    "                    continue\n",
    "                if prices[s] + p < tmpPrice[d]:\n",
    "                    tmpPrice[d] = prices[s] + p\n",
    "            prices = tmpPrice\n",
    "        return -1 if prices[dst] == float(\"inf\") else prices[dst]"
   ],
   "metadata": {
    "collapsed": false,
    "pycharm": {
     "name": "#%%\n"
    }
   }
  },
  {
   "cell_type": "markdown",
   "source": [],
   "metadata": {
    "collapsed": false,
    "pycharm": {
     "name": "#%% md\n"
    }
   }
  }
 ],
 "metadata": {
  "kernelspec": {
   "display_name": "Python 3",
   "language": "python",
   "name": "python3"
  },
  "language_info": {
   "codemirror_mode": {
    "name": "ipython",
    "version": 2
   },
   "file_extension": ".py",
   "mimetype": "text/x-python",
   "name": "python",
   "nbconvert_exporter": "python",
   "pygments_lexer": "ipython2",
   "version": "2.7.6"
  }
 },
 "nbformat": 4,
 "nbformat_minor": 0
}
