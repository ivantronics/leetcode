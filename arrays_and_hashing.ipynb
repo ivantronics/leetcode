{
 "cells": [
  {
   "cell_type": "code",
   "execution_count": null,
   "outputs": [],
   "source": [
    "from typing import List\n",
    "import collections"
   ],
   "metadata": {
    "collapsed": false
   }
  },
  {
   "cell_type": "markdown",
   "source": [
    "217. Contains Duplicate\n",
    "\n",
    "Given an integer array nums, return true if any value appears at least twice in the array, and return false if every element is distinct."
   ],
   "metadata": {
    "collapsed": false
   }
  },
  {
   "cell_type": "code",
   "execution_count": null,
   "outputs": [],
   "source": [
    "def containsDuplicate(self, nums: List[int]) -> bool:\n",
    "    hashlist = set()\n",
    "    for i in nums:\n",
    "        if i not in hashlist:\n",
    "            hashlist.add(i)\n",
    "        else:\n",
    "            return True\n",
    "    return False"
   ],
   "metadata": {
    "collapsed": false
   }
  },
  {
   "cell_type": "markdown",
   "source": [
    "242. Valid Anagram\n",
    "\n",
    "Given two strings s and t, return true if t is an anagram of s, and false otherwise.\n",
    "\n",
    "An Anagram is a word or phrase formed by rearranging the letters of a different word or phrase, typically using all the original letters exactly once."
   ],
   "metadata": {
    "collapsed": false
   }
  },
  {
   "cell_type": "code",
   "execution_count": null,
   "outputs": [],
   "source": [
    "def isAnagram(self, s: str, t: str) -> bool:\n",
    "    if len(s) != len(t):\n",
    "        return False\n",
    "\n",
    "    countS, countT = {}, {}\n",
    "\n",
    "    for i in range(len(s)):\n",
    "        countS[s[i]] = 1 + countS.get(s[i], 0)\n",
    "        countT[t[i]] = 1 + countT.get(t[i], 0)\n",
    "    return countS == countT"
   ],
   "metadata": {
    "collapsed": false
   }
  },
  {
   "cell_type": "markdown",
   "source": [
    "1. Two Sum\n",
    "\n",
    "Given an array of integers nums and an integer target, return indices of the two numbers such that they add up to target.\n",
    "\n",
    "You may assume that each input would have exactly one solution, and you may not use the same element twice.\n",
    "\n",
    "You can return the answer in any order."
   ],
   "metadata": {
    "collapsed": false
   }
  },
  {
   "cell_type": "code",
   "execution_count": null,
   "outputs": [],
   "source": [
    "def twoSum(self, nums: List[int], target: int) -> List[int]:\n",
    "    lut: dict = {}\n",
    "    for idx, val in enumerate(nums):\n",
    "        needed = target - val\n",
    "        if needed in lut:\n",
    "            return [lut[needed], idx]\n",
    "        lut[val] = idx"
   ],
   "metadata": {
    "collapsed": false
   }
  },
  {
   "cell_type": "markdown",
   "source": [
    "49. Group Anagrams\n",
    "\n",
    "Given an array of strings strs, group the anagrams together. You can return the answer in any order.\n",
    "\n",
    "An Anagram is a word or phrase formed by rearranging the letters of a different word or phrase, typically using all the original letters exactly once."
   ],
   "metadata": {
    "collapsed": false
   }
  },
  {
   "cell_type": "code",
   "execution_count": null,
   "outputs": [],
   "source": [
    "def groupAnagrams(self, strs: List[str]) -> List[List[str]]:\n",
    "    results = {}\n",
    "    for word in strs:\n",
    "        key = \"\".join(sorted(word))\n",
    "        if key in results:\n",
    "            results[key].append(word)\n",
    "        else:\n",
    "            results[key] = [word]\n",
    "    return results.values()"
   ],
   "metadata": {
    "collapsed": false
   }
  },
  {
   "cell_type": "markdown",
   "source": [
    "347. Top K Frequent Elements\n",
    "\n",
    "Given an integer array nums and an integer k, return the k most frequent elements. You may return the answer in any order."
   ],
   "metadata": {
    "collapsed": false
   }
  },
  {
   "cell_type": "code",
   "execution_count": null,
   "outputs": [],
   "source": [
    "def topKFrequent(self, nums: List[int], k: int) -> List[int]:\n",
    "    count = {}\n",
    "    freq = [[] for i in range(len(nums) + 1)]\n",
    "    res = []\n",
    "    for num in nums:\n",
    "        count[num] = 1 + count.get(num, 0)\n",
    "    for key, val in count.items():\n",
    "        freq[val].append(key)\n",
    "    for num in range(len(freq) - 1, 0, -1):\n",
    "        for each in freq[num]:\n",
    "            res.append(each)\n",
    "            if len(res) == k:\n",
    "                return res"
   ],
   "metadata": {
    "collapsed": false
   }
  },
  {
   "cell_type": "markdown",
   "source": [
    "238. Product of Array Except Self\n",
    "\n",
    "Given an integer array nums, return an array answer such that answer[i] is equal to the product of all the elements of nums except nums[i].\n",
    "\n",
    "The product of any prefix or suffix of nums is guaranteed to fit in a 32-bit integer.\n",
    "\n",
    "You must write an algorithm that runs in O(n) time and without using the division operation."
   ],
   "metadata": {
    "collapsed": false
   }
  },
  {
   "cell_type": "code",
   "execution_count": null,
   "outputs": [],
   "source": [
    "def productExceptSelf(self, nums: List[int]) -> List[int]:\n",
    "    result = [1] * len(nums)\n",
    "\n",
    "    prefix = 1\n",
    "    for i in range(len(nums)):\n",
    "        result[i] = prefix\n",
    "        prefix *= nums[i]\n",
    "\n",
    "    postfix = 1\n",
    "    for i in range(len(nums) - 1, -1, -1):\n",
    "        result[i] *= postfix\n",
    "        postfix *= nums[i]\n",
    "\n",
    "    return result"
   ],
   "metadata": {
    "collapsed": false
   }
  },
  {
   "cell_type": "markdown",
   "source": [
    "36. Valid Sudoku\n",
    "\n",
    "Determine if a 9 x 9 Sudoku board is valid. Only the filled cells need to be validated according to the following rules:\n",
    "\n",
    "    Each row must contain the digits 1-9 without repetition.\n",
    "    Each column must contain the digits 1-9 without repetition.\n",
    "    Each of the nine 3 x 3 sub-boxes of the grid must contain the digits 1-9 without repetition.\n",
    "\n",
    "Note:\n",
    "\n",
    "    A Sudoku board (partially filled) could be valid but is not necessarily solvable.\n",
    "    Only the filled cells need to be validated according to the mentioned rules.\n"
   ],
   "metadata": {
    "collapsed": false
   }
  },
  {
   "cell_type": "code",
   "execution_count": null,
   "outputs": [],
   "source": [
    "def isValidSudoku(self, board: List[List[str]]) -> bool:\n",
    "    cols = collections.defaultdict(set)\n",
    "    rows = collections.defaultdict(set)\n",
    "    sqrs = collections.defaultdict(set)\n",
    "\n",
    "    for r in range(9):\n",
    "        for c in range(9):\n",
    "            if board[r][c] == \".\":\n",
    "                continue\n",
    "            if (board[r][c] in rows[r] or\n",
    "                    board[r][c] in cols[c] or\n",
    "                    board[r][c] in sqrs[(r // 3, c // 3)]):\n",
    "                return False\n",
    "            cols[c].add(board[r][c])\n",
    "            rows[r].add(board[r][c])\n",
    "            sqrs[(r // 3, c // 3)].add(board[r][c])\n",
    "\n",
    "    return True"
   ],
   "metadata": {
    "collapsed": false
   }
  },
  {
   "cell_type": "markdown",
   "source": [
    "659. Encode and Decode Strings\n",
    "\n",
    "Design an algorithm to encode a list of strings to a string. The encoded string is then sent over the network and is decoded back to the original list of strings.\n",
    "\n",
    "Please implement encode and decode"
   ],
   "metadata": {
    "collapsed": false
   }
  },
  {
   "cell_type": "code",
   "execution_count": null,
   "outputs": [],
   "source": [
    "def encode(self, strs: list[str]) -> str:\n",
    "    return \"\".join(f\"#{len(i)}{i}\" for i in strs)\n",
    "\n",
    "\n",
    "def decode(self, s: str) -> list[str]:\n",
    "    res = []\n",
    "    for idx, val in enumerate(s):\n",
    "        if val == \"#\":\n",
    "            g = s[idx + 2:idx + 2 + int(s[idx + 1])]\n",
    "            if isinstance(int(s[idx + 1]), int):\n",
    "                res.append(g)\n",
    "    return res"
   ],
   "metadata": {
    "collapsed": false
   }
  },
  {
   "cell_type": "markdown",
   "source": [
    "128. Longest Consecutive Sequence\n",
    "\n",
    "Given an unsorted array of integers nums, return the length of the longest consecutive elements sequence.\n",
    "\n",
    "You must write an algorithm that runs in O(n) time."
   ],
   "metadata": {
    "collapsed": false
   }
  },
  {
   "cell_type": "code",
   "execution_count": null,
   "outputs": [],
   "source": [
    "def longestConsecutive(self, nums: List[int]) -> int:\n",
    "    hashmap = set(nums)\n",
    "    longest = 0\n",
    "    for n in hashmap:\n",
    "        if (n - 1) not in hashmap:\n",
    "            curr_length = 0\n",
    "            while n + curr_length in hashmap:\n",
    "                curr_length += 1\n",
    "            longest = max(curr_length, longest)\n",
    "    return longest"
   ],
   "metadata": {
    "collapsed": false
   }
  }
 ],
 "metadata": {
  "kernelspec": {
   "display_name": "Python 3",
   "language": "python",
   "name": "python3"
  },
  "language_info": {
   "codemirror_mode": {
    "name": "ipython",
    "version": 2
   },
   "file_extension": ".py",
   "mimetype": "text/x-python",
   "name": "python",
   "nbconvert_exporter": "python",
   "pygments_lexer": "ipython2",
   "version": "2.7.6"
  }
 },
 "nbformat": 4,
 "nbformat_minor": 0
}
