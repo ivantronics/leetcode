{
 "cells": [
  {
   "cell_type": "code",
   "execution_count": null,
   "metadata": {
    "collapsed": true
   },
   "outputs": [],
   "source": [
    "from typing import List\n",
    "from collections import Counter"
   ]
  },
  {
   "cell_type": "markdown",
   "source": [
    "78. Subsets\n",
    "\n",
    "Given an integer array nums of unique elements, return all possible\n",
    "subsets\n",
    "(the power set).\n",
    "\n",
    "The solution set must not contain duplicate subsets. Return the solution in any order."
   ],
   "metadata": {
    "collapsed": false
   }
  },
  {
   "cell_type": "code",
   "execution_count": null,
   "outputs": [],
   "source": [
    "class Solution:\n",
    "    def subsets(self, nums: List[int]) -> List[List[int]]:\n",
    "        res = []\n",
    "        subset = []\n",
    "\n",
    "        def dfs(i):\n",
    "            if i >= len(nums):\n",
    "                res.append(subset.copy())\n",
    "                return\n",
    "            subset.append(nums[i])\n",
    "            dfs(i + 1)\n",
    "            subset.pop()\n",
    "            dfs(i + 1)\n",
    "\n",
    "        dfs(0)\n",
    "\n",
    "        return res"
   ],
   "metadata": {
    "collapsed": false
   }
  },
  {
   "cell_type": "markdown",
   "source": [
    "39. Combination Sum\n",
    "\n",
    "Given an array of distinct integers candidates and a target integer target, return a list of all unique combinations of candidates where the chosen numbers sum to target. You may return the combinations in any order.\n",
    "\n",
    "The same number may be chosen from candidates an unlimited number of times. Two combinations are unique if the\n",
    "frequency\n",
    "of at least one of the chosen numbers is different.\n",
    "\n",
    "The test cases are generated such that the number of unique combinations that sum up to target is less than 150 combinations for the given input."
   ],
   "metadata": {
    "collapsed": false
   }
  },
  {
   "cell_type": "code",
   "execution_count": null,
   "outputs": [],
   "source": [
    "    def combinationSum(self, candidates: List[int], target: int) -> List[List[int]]:\n",
    "        res = []\n",
    "\n",
    "        def dfs(i, curr, total):\n",
    "            if total == target:\n",
    "                res.append(curr.copy())\n",
    "                return\n",
    "            if i >= len(candidates) or total > target:\n",
    "                return\n",
    "\n",
    "            curr.append(candidates[i])\n",
    "            dfs(i, curr, total + candidates[i])\n",
    "            curr.pop()\n",
    "            dfs(i + 1, curr, total)\n",
    "\n",
    "        dfs(0, [], 0)\n",
    "        return res"
   ],
   "metadata": {
    "collapsed": false
   }
  },
  {
   "cell_type": "markdown",
   "source": [
    "46. Permutations\n",
    "\n",
    "Given an array nums of distinct integers, return all the possible permutations. You can return the answer in any order."
   ],
   "metadata": {
    "collapsed": false
   }
  },
  {
   "cell_type": "code",
   "execution_count": null,
   "outputs": [],
   "source": [
    "    def permute(self, nums: List[int]) -> List[List[int]]:\n",
    "        res = []\n",
    "\n",
    "        if len(nums) == 1:\n",
    "            return [nums[:]]\n",
    "\n",
    "        for i in range(len(nums)):\n",
    "            n = nums.pop(0)\n",
    "\n",
    "            perms = self.permute(nums)\n",
    "\n",
    "            for perm in perms:\n",
    "                perm.append(n)\n",
    "\n",
    "            res.extend(perms)\n",
    "\n",
    "            nums.append(n)\n",
    "\n",
    "        return res"
   ],
   "metadata": {
    "collapsed": false
   }
  },
  {
   "cell_type": "markdown",
   "source": [
    "90. Subsets II\n",
    "\n",
    "Given an integer array nums that may contain duplicates, return all possible\n",
    "subsets\n",
    "(the power set).\n",
    "\n",
    "The solution set must not contain duplicate subsets. Return the solution in any order."
   ],
   "metadata": {
    "collapsed": false
   }
  },
  {
   "cell_type": "code",
   "execution_count": null,
   "outputs": [],
   "source": [
    "    def subsetsWithDup(self, nums: List[int]) -> List[List[int]]:\n",
    "        res = []\n",
    "        nums.sort()\n",
    "\n",
    "        def backtrack(i, subset):\n",
    "            if i == len(nums):\n",
    "                res.append(subset[:])\n",
    "                return\n",
    "            subset.append(nums[i])\n",
    "            backtrack(i + 1, subset)\n",
    "            subset.pop()\n",
    "            while i + 1 < len(nums) and nums[i] == nums[i + 1]:\n",
    "                i += 1\n",
    "            backtrack(i + 1, subset)\n",
    "\n",
    "        backtrack(0, [])\n",
    "\n",
    "        return res"
   ],
   "metadata": {
    "collapsed": false
   }
  },
  {
   "cell_type": "markdown",
   "source": [
    "40. Combination Sum II\n",
    "\n",
    "Given a collection of candidate numbers (candidates) and a target number (target), find all unique combinations in candidates where the candidate numbers sum to target.\n",
    "\n",
    "Each number in candidates may only be used once in the combination.\n",
    "\n",
    "Note: The solution set must not contain duplicate combinations."
   ],
   "metadata": {
    "collapsed": false
   }
  },
  {
   "cell_type": "code",
   "execution_count": null,
   "outputs": [],
   "source": [
    "    def combinationSum2(self, candidates: List[int], target: int) -> List[List[int]]:\n",
    "        res = []\n",
    "        candidates.sort()\n",
    "\n",
    "        def backtrack(curr, pos, target):\n",
    "            if target == 0:\n",
    "                res.append(curr[:])\n",
    "                return\n",
    "            if target <= 0:\n",
    "                return\n",
    "            prev = -1\n",
    "            for i in range(pos, len(candidates)):\n",
    "                if candidates[i] == prev:\n",
    "                    continue\n",
    "                curr.append(candidates[i])\n",
    "                backtrack(curr, i + 1, target - candidates[i])\n",
    "                curr.pop()\n",
    "                prev = candidates[i]\n",
    "\n",
    "        backtrack([], 0, target)\n",
    "\n",
    "        return res"
   ],
   "metadata": {
    "collapsed": false
   }
  },
  {
   "cell_type": "markdown",
   "source": [
    "79. Word Search\n",
    "\n",
    "Given an m x n grid of characters board and a string word, return true if word exists in the grid.\n",
    "\n",
    "The word can be constructed from letters of sequentially adjacent cells, where adjacent cells are horizontally or vertically neighboring. The same letter cell may not be used more than once."
   ],
   "metadata": {
    "collapsed": false
   }
  },
  {
   "cell_type": "code",
   "execution_count": null,
   "outputs": [],
   "source": [
    "    def exist(self, board: List[List[str]], word: str) -> bool:\n",
    "        ROWS, COLS = len(board), len(board[0])\n",
    "        path = set()\n",
    "        if len(word) > ROWS*COLS: return False\n",
    "        # [] is the starting value in sum, flattening 2d board to 1d list\n",
    "        count = Counter(sum(board, []))\n",
    "        for c, countWord in Counter(word).items():\n",
    "            if count[c] < countWord:\n",
    "                return False\n",
    "        # optimization to reduce dfs time\n",
    "        if count[word[0]] > count[word[-1]]:\n",
    "            word = word[::-1]\n",
    "\n",
    "        def dfs(r, c, i):\n",
    "            if i == len(word):\n",
    "                return True\n",
    "            if (r < 0 or c < 0) or \\\n",
    "               (r >= ROWS or c >= COLS) or \\\n",
    "               (word[i] != board[r][c]) or \\\n",
    "               ((r, c) in path):\n",
    "                return False\n",
    "            path.add((r, c))\n",
    "            res = (dfs(r + 1, c, i + 1) or\n",
    "                   dfs(r, c + 1, i + 1) or\n",
    "                   dfs(r - 1, c, i + 1) or\n",
    "                   dfs(r, c - 1, i + 1))\n",
    "            path.remove((r, c))\n",
    "            return res\n",
    "\n",
    "        for r in range(ROWS):\n",
    "            for c in range(COLS):\n",
    "                if dfs(r, c, 0):\n",
    "                    return True\n",
    "\n",
    "        return False"
   ],
   "metadata": {
    "collapsed": false
   }
  },
  {
   "cell_type": "markdown",
   "source": [
    "131. Palindrome Partitioning\n",
    "\n",
    "Given a string s, partition s such that every\n",
    "substring\n",
    "of the partition is a\n",
    "palindrome\n",
    ". Return all possible palindrome partitioning of s."
   ],
   "metadata": {
    "collapsed": false
   }
  },
  {
   "cell_type": "code",
   "execution_count": null,
   "outputs": [],
   "source": [
    "    def partition(self, s: str) -> List[List[str]]:\n",
    "        res = []\n",
    "        sub = []\n",
    "\n",
    "        def dfs(i):\n",
    "            if i >= len(s):\n",
    "                res.append(sub[:])\n",
    "                return\n",
    "            for j in range(i, len(s)):\n",
    "                if self.ispalindrome(s, i, j):\n",
    "                    sub.append(s[i:j+1])\n",
    "                    dfs(j + 1)\n",
    "                    sub.pop()\n",
    "        dfs(0)\n",
    "        return res\n",
    "\n",
    "    def ispalindrome(self, s, l, r):\n",
    "        while l < r:\n",
    "            if s[l] != s[r]:\n",
    "                return False\n",
    "            l, r = l + 1, r - 1\n",
    "        return True"
   ],
   "metadata": {
    "collapsed": false
   }
  },
  {
   "cell_type": "markdown",
   "source": [
    "17. Letter Combinations of a Phone Number\n",
    "\n",
    "Given a string containing digits from 2-9 inclusive, return all possible letter combinations that the number could represent. Return the answer in any order.\n",
    "\n",
    "A mapping of digits to letters (just like on the telephone buttons) is given below. Note that 1 does not map to any letters."
   ],
   "metadata": {
    "collapsed": false
   }
  },
  {
   "cell_type": "code",
   "execution_count": null,
   "outputs": [],
   "source": [
    "    def letterCombinations(self, digits: str) -> List[str]:\n",
    "        res = []\n",
    "        digitToChar = {\n",
    "            \"2\": \"abc\",\n",
    "            \"3\": \"def\",\n",
    "            \"4\": \"ghi\",\n",
    "            \"5\": \"jkl\",\n",
    "            \"6\": \"mno\",\n",
    "            \"7\": \"qprs\",\n",
    "            \"8\": \"tuv\",\n",
    "            \"9\": \"wxyz\",\n",
    "        }\n",
    "\n",
    "        def backtrack(i, currstr):\n",
    "            if len(currstr) == len(digits):\n",
    "                res.append(currstr)\n",
    "                return\n",
    "            for c in digitToChar[digits[i]]:\n",
    "                backtrack(i + 1, currstr + c)\n",
    "\n",
    "        if digits:\n",
    "            backtrack(0, \"\")\n",
    "\n",
    "        return res"
   ],
   "metadata": {
    "collapsed": false
   }
  },
  {
   "cell_type": "markdown",
   "source": [
    "51. N-Queens\n",
    "\n",
    "The n-queens puzzle is the problem of placing n queens on an n x n chessboard such that no two queens attack each other.\n",
    "\n",
    "Given an integer n, return all distinct solutions to the n-queens puzzle. You may return the answer in any order.\n",
    "\n",
    "Each solution contains a distinct board configuration of the n-queens' placement, where 'Q' and '.' both indicate a queen and an empty space, respectively."
   ],
   "metadata": {
    "collapsed": false
   }
  },
  {
   "cell_type": "code",
   "execution_count": null,
   "outputs": [],
   "source": [
    "    def solveNQueens(self, n: int) -> List[List[str]]:\n",
    "        col = set()\n",
    "        posdiag = set() # (r + c)\n",
    "        negdiag = set() # (r - c)\n",
    "\n",
    "        res = []\n",
    "        board = [[\".\"] * n for _ in range(n)]\n",
    "\n",
    "        def backtrack(r):\n",
    "            if r == n:\n",
    "                res.append([\"\".join(row) for row in board])\n",
    "                return\n",
    "            for c in range(n):\n",
    "                if c in col or (r + c) in posdiag or (r - c) in negdiag:\n",
    "                    continue\n",
    "                col.add(c)\n",
    "                posdiag.add(r + c)\n",
    "                negdiag.add(r - c)\n",
    "                board[r][c] = \"Q\"\n",
    "                backtrack(r + 1)\n",
    "                col.remove(c)\n",
    "                posdiag.remove(r + c)\n",
    "                negdiag.remove(r - c)\n",
    "                board[r][c] = \".\"\n",
    "        backtrack(0)\n",
    "        return res"
   ],
   "metadata": {
    "collapsed": false
   }
  }
 ],
 "metadata": {
  "kernelspec": {
   "display_name": "Python 3",
   "language": "python",
   "name": "python3"
  },
  "language_info": {
   "codemirror_mode": {
    "name": "ipython",
    "version": 2
   },
   "file_extension": ".py",
   "mimetype": "text/x-python",
   "name": "python",
   "nbconvert_exporter": "python",
   "pygments_lexer": "ipython2",
   "version": "2.7.6"
  }
 },
 "nbformat": 4,
 "nbformat_minor": 0
}
