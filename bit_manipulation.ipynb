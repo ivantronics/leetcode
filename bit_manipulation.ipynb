{
 "cells": [
  {
   "cell_type": "code",
   "execution_count": null,
   "metadata": {
    "collapsed": true
   },
   "outputs": [],
   "source": [
    "from typing import List\n",
    "import math"
   ]
  },
  {
   "cell_type": "markdown",
   "source": [
    "136. Single Number\n",
    "\n",
    "Given a non-empty array of integers nums, every element appears twice except for one. Find that single one.\n",
    "\n",
    "You must implement a solution with a linear runtime complexity and use only constant extra space."
   ],
   "metadata": {
    "collapsed": false
   }
  },
  {
   "cell_type": "code",
   "execution_count": null,
   "outputs": [],
   "source": [
    "class Solution:\n",
    "    def singleNumber(self, nums: List[int]) -> int:\n",
    "        res = 0\n",
    "        for n in nums:\n",
    "            res = n ^ res\n",
    "        return res"
   ],
   "metadata": {
    "collapsed": false
   }
  },
  {
   "cell_type": "markdown",
   "source": [
    "191. Number of 1 Bits\n",
    "\n",
    "Write a function that takes the binary representation of an unsigned integer and returns the number of '1' bits it has (also known as the Hamming weight).\n",
    "\n",
    "Note:\n",
    "\n",
    "    Note that in some languages, such as Java, there is no unsigned integer type. In this case, the input will be given as a signed integer type. It should not affect your implementation, as the integer's internal binary representation is the same, whether it is signed or unsigned.\n",
    "    In Java, the compiler represents the signed integers using 2's complement notation. Therefore, in Example 3, the input represents the signed integer. -3."
   ],
   "metadata": {
    "collapsed": false
   }
  },
  {
   "cell_type": "code",
   "execution_count": null,
   "outputs": [],
   "source": [
    "    def hammingWeight(self, n: int) -> int:\n",
    "        res = 0\n",
    "        while n:\n",
    "            res += n % 2\n",
    "            n = n >> 1\n",
    "        return res"
   ],
   "metadata": {
    "collapsed": false
   }
  },
  {
   "cell_type": "markdown",
   "source": [
    "338. Counting Bits\n",
    "\n",
    "Given an integer n, return an array ans of length n + 1 such that for each i (0 <= i <= n), ans[i] is the number of 1's in the binary representation of i."
   ],
   "metadata": {
    "collapsed": false
   }
  },
  {
   "cell_type": "code",
   "execution_count": null,
   "outputs": [],
   "source": [
    "    def countBits(self, n: int) -> List[int]:\n",
    "        dp = [0] * (n + 1)\n",
    "        offset = 1\n",
    "\n",
    "        for i in range(1, n + 1):\n",
    "            if offset * 2 == i:\n",
    "                offset = i\n",
    "            dp[i] = 1 + dp[i - offset]\n",
    "\n",
    "        return dp"
   ],
   "metadata": {
    "collapsed": false
   }
  },
  {
   "cell_type": "markdown",
   "source": [
    "190. Reverse Bits\n",
    "\n",
    "Reverse bits of a given 32 bits unsigned integer."
   ],
   "metadata": {
    "collapsed": false
   }
  },
  {
   "cell_type": "code",
   "execution_count": null,
   "outputs": [],
   "source": [
    "    def reverseBits(self, n: int) -> int:\n",
    "        res = 0\n",
    "        for i in range(32):\n",
    "            bit = (n >> i) & 1\n",
    "            res = res | (bit << (31 - i))\n",
    "        return res"
   ],
   "metadata": {
    "collapsed": false
   }
  },
  {
   "cell_type": "markdown",
   "source": [
    "268. Missing Number\n",
    "\n",
    "Given an array nums containing n distinct numbers in the range [0, n], return the only number in the range that is missing from the array."
   ],
   "metadata": {
    "collapsed": false
   }
  },
  {
   "cell_type": "code",
   "execution_count": null,
   "outputs": [],
   "source": [
    "    def missingNumber(self, nums: List[int]) -> int:\n",
    "        res = len(nums)\n",
    "\n",
    "        for i in range(len(nums)):\n",
    "            res += (i - nums[i])\n",
    "\n",
    "        return res"
   ],
   "metadata": {
    "collapsed": false
   }
  },
  {
   "cell_type": "markdown",
   "source": [
    "371. Sum of Two Integers\n",
    "\n",
    "Given two integers a and b, return the sum of the two integers without using the operators + and -."
   ],
   "metadata": {
    "collapsed": false
   }
  },
  {
   "cell_type": "code",
   "execution_count": null,
   "outputs": [],
   "source": [
    "    def getSum(self, a: int, b: int) -> int:\n",
    "        def add(a, b):\n",
    "            if not a or not b:\n",
    "                return a or b\n",
    "            return add(a ^ b, (a & b) << 1)\n",
    "\n",
    "        if a * b < 0:  # assume a < 0, b > 0\n",
    "            if a > 0:\n",
    "                return self.getSum(b, a)\n",
    "            if add(~a, 1) == b:  # -a == b\n",
    "                return 0\n",
    "            if add(~a, 1) < b:  # -a < b\n",
    "                return add(~add(add(~a, 1), add(~b, 1)), 1)  # -add(-a, -b)\n",
    "\n",
    "        return add(a, b)  # a*b >= 0 or (-a) > b > 0"
   ],
   "metadata": {
    "collapsed": false
   }
  },
  {
   "cell_type": "markdown",
   "source": [
    "7. Reverse Integer\n",
    "\n",
    "Given a signed 32-bit integer x, return x with its digits reversed. If reversing x causes the value to go outside the signed 32-bit integer range [-231, 231 - 1], then return 0.\n",
    "\n",
    "Assume the environment does not allow you to store 64-bit integers (signed or unsigned)."
   ],
   "metadata": {
    "collapsed": false
   }
  },
  {
   "cell_type": "code",
   "execution_count": null,
   "outputs": [],
   "source": [
    "    def reverse(self, x: int) -> int:\n",
    "        MIN = -2147483648  # -2^31,\n",
    "        MAX = 2147483647  #  2^31 - 1\n",
    "\n",
    "        res = 0\n",
    "        while x:\n",
    "            digit = int(math.fmod(x, 10))  # (python dumb) -1 %  10 = 9\n",
    "            x = int(x / 10)  # (python dumb) -1 // 10 = -1\n",
    "\n",
    "            if res > MAX // 10 or (res == MAX // 10 and digit > MAX % 10):\n",
    "                return 0\n",
    "            if res < MIN // 10 or (res == MIN // 10 and digit < MIN % 10):\n",
    "                return 0\n",
    "            res = (res * 10) + digit\n",
    "\n",
    "        return res\n",
    "\n",
    "    def reverse(self, x: int) -> int:\n",
    "        if x == 0:\n",
    "            return x\n",
    "        par = x // abs(x)\n",
    "        x = abs(x)\n",
    "        res = 0\n",
    "\n",
    "        while x:\n",
    "            res = res*10+(x%10)\n",
    "            x = x//10\n",
    "        res *= par\n",
    "        return res if -2**31<res<2**31-1 else 0"
   ],
   "metadata": {
    "collapsed": false
   }
  }
 ],
 "metadata": {
  "kernelspec": {
   "display_name": "Python 3",
   "language": "python",
   "name": "python3"
  },
  "language_info": {
   "codemirror_mode": {
    "name": "ipython",
    "version": 2
   },
   "file_extension": ".py",
   "mimetype": "text/x-python",
   "name": "python",
   "nbconvert_exporter": "python",
   "pygments_lexer": "ipython2",
   "version": "2.7.6"
  }
 },
 "nbformat": 4,
 "nbformat_minor": 0
}
