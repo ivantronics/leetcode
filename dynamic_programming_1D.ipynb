{
 "cells": [
  {
   "cell_type": "code",
   "execution_count": null,
   "metadata": {
    "collapsed": true
   },
   "outputs": [],
   "source": [
    "from typing import List"
   ]
  },
  {
   "cell_type": "markdown",
   "source": [
    "70. Climbing Stairs\n",
    "\n",
    "You are climbing a staircase. It takes n steps to reach the top.\n",
    "\n",
    "Each time you can either climb 1 or 2 steps. In how many distinct ways can you climb to the top?"
   ],
   "metadata": {
    "collapsed": false
   }
  },
  {
   "cell_type": "code",
   "execution_count": null,
   "outputs": [],
   "source": [
    "class Solution:\n",
    "    def climbStairs(self, n: int) -> int:\n",
    "        one = two = 1\n",
    "\n",
    "        for _ in range(n - 1):\n",
    "            one, two = one + two, one\n",
    "\n",
    "        return one"
   ],
   "metadata": {
    "collapsed": false
   }
  },
  {
   "cell_type": "markdown",
   "source": [
    "746. Min Cost Climbing Stairs\n",
    "\n",
    "You are given an integer array cost where cost[i] is the cost of ith step on a staircase. Once you pay the cost, you can either climb one or two steps.\n",
    "\n",
    "You can either start from the step with index 0, or the step with index 1.\n",
    "\n",
    "Return the minimum cost to reach the top of the floor."
   ],
   "metadata": {
    "collapsed": false
   }
  },
  {
   "cell_type": "code",
   "execution_count": null,
   "outputs": [],
   "source": [
    "    def minCostClimbingStairs(self, cost: List[int]) -> int:\n",
    "        cost.append(0)\n",
    "        for i in range(len(cost) - 3, -1, -1):\n",
    "            cost[i] += min(cost[i + 1], cost[i + 2])\n",
    "\n",
    "        return min(cost[0], cost[1])"
   ],
   "metadata": {
    "collapsed": false
   }
  },
  {
   "cell_type": "markdown",
   "source": [
    "198. House Robber\n",
    "\n",
    "You are a professional robber planning to rob houses along a street. Each house has a certain amount of money stashed, the only constraint stopping you from robbing each of them is that adjacent houses have security systems connected and it will automatically contact the police if two adjacent houses were broken into on the same night.\n",
    "\n",
    "Given an integer array nums representing the amount of money of each house, return the maximum amount of money you can rob tonight without alerting the police."
   ],
   "metadata": {
    "collapsed": false
   }
  },
  {
   "cell_type": "code",
   "execution_count": null,
   "outputs": [],
   "source": [
    "    def rob(self, nums: List[int]) -> int:\n",
    "        a = b = 0\n",
    "        for i in nums:\n",
    "            a, b = b, max(i + a, b)\n",
    "        return b"
   ],
   "metadata": {
    "collapsed": false
   }
  },
  {
   "cell_type": "markdown",
   "source": [
    "213. House Robber II\n",
    "\n",
    "You are a professional robber planning to rob houses along a street. Each house has a certain amount of money stashed. All houses at this place are arranged in a circle. That means the first house is the neighbor of the last one. Meanwhile, adjacent houses have a security system connected, and it will automatically contact the police if two adjacent houses were broken into on the same night.\n",
    "\n",
    "Given an integer array nums representing the amount of money of each house, return the maximum amount of money you can rob tonight without alerting the police."
   ],
   "metadata": {
    "collapsed": false
   }
  },
  {
   "cell_type": "code",
   "execution_count": null,
   "outputs": [],
   "source": [
    "    def rob(self, nums: List[int]) -> int:\n",
    "        return max(self.robber(nums[:-1]), self.robber(nums[1:]), nums[0])\n",
    "\n",
    "    def robber(self, nums: List[int]) -> int:\n",
    "        a = b = 0\n",
    "        for i in nums:\n",
    "            a, b = b, max(i + a, b)\n",
    "        return b"
   ],
   "metadata": {
    "collapsed": false
   }
  },
  {
   "cell_type": "markdown",
   "source": [
    "5. Longest Palindromic Substring\n",
    "\n",
    "Given a string s, return the longest palindromic substring in s."
   ],
   "metadata": {
    "collapsed": false
   }
  },
  {
   "cell_type": "code",
   "execution_count": null,
   "outputs": [],
   "source": [
    "    def longestPalindrome(self, s: str) -> str:\n",
    "        res = \"\"\n",
    "        resLen = 0\n",
    "\n",
    "        for i in range(len(s)):\n",
    "            l = r = i\n",
    "            while l >= 0 and r < len(s) and s[r] == s[l]:\n",
    "                curr = r - l + 1\n",
    "                if curr > resLen:\n",
    "                    res = s[l: r + 1]\n",
    "                    resLen = curr\n",
    "                l -= 1\n",
    "                r += 1\n",
    "            l, r = i, i + 1\n",
    "            while l >= 0 and r < len(s) and s[r] == s[l]:\n",
    "                curr = r - l + 1\n",
    "                if curr > resLen:\n",
    "                    res = s[l: r + 1]\n",
    "                    resLen = curr\n",
    "                l -= 1\n",
    "                r += 1\n",
    "        return res"
   ],
   "metadata": {
    "collapsed": false
   }
  },
  {
   "cell_type": "markdown",
   "source": [
    "647. Palindromic Substrings\n",
    "\n",
    "Given a string s, return the number of palindromic substrings in it.\n",
    "\n",
    "A string is a palindrome when it reads the same backward as forward.\n",
    "\n",
    "A substring is a contiguous sequence of characters within the string."
   ],
   "metadata": {
    "collapsed": false
   }
  },
  {
   "cell_type": "code",
   "execution_count": null,
   "outputs": [],
   "source": [
    "    def countSubstrings(self, s: str) -> int:\n",
    "        res = 0\n",
    "        for i in range(len(s)):\n",
    "            l = r = i\n",
    "            while l >= 0 and r < len(s) and s[l] == s[r]:\n",
    "                res += 1\n",
    "                r += 1\n",
    "                l -= 1\n",
    "\n",
    "            l, r = i, i + 1\n",
    "            while l >= 0 and r < len(s) and s[l] == s[r]:\n",
    "                res += 1\n",
    "                r += 1\n",
    "                l -= 1\n",
    "\n",
    "        return res"
   ],
   "metadata": {
    "collapsed": false
   }
  },
  {
   "cell_type": "code",
   "execution_count": null,
   "outputs": [],
   "source": [
    "    # condensed with helper function\n",
    "    def countSubstrings(self, s: str) -> int:\n",
    "        res = 0\n",
    "\n",
    "        for i in range(len(s)):\n",
    "            res += self.countPali(s, i, i)\n",
    "            res += self.countPali(s, i, i + 1)\n",
    "        return res\n",
    "\n",
    "    def countPali(self, s, l, r):\n",
    "        res = 0\n",
    "        while l >= 0 and r < len(s) and s[l] == s[r]:\n",
    "            res += 1\n",
    "            l -= 1\n",
    "            r += 1\n",
    "        return res"
   ],
   "metadata": {
    "collapsed": false
   }
  },
  {
   "cell_type": "markdown",
   "source": [
    "91. Decode Ways\n",
    "\n",
    "A message containing letters from A-Z can be encoded into numbers using the following mapping:\n",
    "\n",
    "'A' -> \"1\"\n",
    "'B' -> \"2\"\n",
    "...\n",
    "'Z' -> \"26\"\n",
    "\n",
    "To decode an encoded message, all the digits must be grouped then mapped back into letters using the reverse of the mapping above (there may be multiple ways). For example, \"11106\" can be mapped into:\n",
    "\n",
    "    \"AAJF\" with the grouping (1 1 10 6)\n",
    "    \"KJF\" with the grouping (11 10 6)\n",
    "\n",
    "Note that the grouping (1 11 06) is invalid because \"06\" cannot be mapped into 'F' since \"6\" is different from \"06\".\n",
    "\n",
    "Given a string s containing only digits, return the number of ways to decode it.\n",
    "\n",
    "The test cases are generated so that the answer fits in a 32-bit integer."
   ],
   "metadata": {
    "collapsed": false
   }
  },
  {
   "cell_type": "code",
   "execution_count": null,
   "outputs": [],
   "source": [
    "    def numDecodings(self, s: str) -> int:\n",
    "        dp = { len(s) : 1}\n",
    "\n",
    "        def dfs(i):\n",
    "            if i in dp:\n",
    "                return dp[i]\n",
    "            if s[i] == \"0\":\n",
    "                return 0\n",
    "            res = dfs(i + 1)\n",
    "            if i + 1 < len(s) and (s[i] == \"1\" or s[i] == \"2\" and s[i + 1] in \"0123456\"):\n",
    "                res += dfs(i + 2)\n",
    "            dp[i] = res\n",
    "\n",
    "        return dfs(0)"
   ],
   "metadata": {
    "collapsed": false
   }
  },
  {
   "cell_type": "code",
   "execution_count": null,
   "outputs": [],
   "source": [
    "# dp\n",
    "    def numDecodings(self, s: str) -> int:\n",
    "        dp = { len(s) : 1}\n",
    "        for i in range(len(s) - 1, -1, -1):\n",
    "            if s[i] == \"0\":\n",
    "                dp[i] = 0\n",
    "            else:\n",
    "                dp[i] = dp[i + 1]\n",
    "\n",
    "            if i + 1 < len(s) and (\n",
    "                    s[i] == \"1\" or s[i] == \"2\"\n",
    "                    and s[i + 1] in \"0123456\"):\n",
    "                dp[i] += dp[i + 2]\n",
    "        return dp[0]"
   ],
   "metadata": {
    "collapsed": false
   }
  },
  {
   "cell_type": "markdown",
   "source": [
    "322. Coin Change\n",
    "\n",
    "You are given an integer array coins representing coins of different denominations and an integer amount representing a total amount of money.\n",
    "\n",
    "Return the fewest number of coins that you need to make up that amount. If that amount of money cannot be made up by any combination of the coins, return -1.\n",
    "\n",
    "You may assume that you have an infinite number of each kind of coin."
   ],
   "metadata": {
    "collapsed": false
   }
  },
  {
   "cell_type": "code",
   "execution_count": null,
   "outputs": [],
   "source": [
    "    def coinChange(self, coins: List[int], amount: int) -> int:\n",
    "        m = [amount + 1] * (amount + 1)\n",
    "        m[0] = 0\n",
    "\n",
    "        for a in range(1, amount + 1):\n",
    "            for c in coins:\n",
    "                if a - c >= 0:\n",
    "                    m[a] = min(m[a], 1 + m[a - c])\n",
    "\n",
    "        return m[amount] if m[amount] != amount + 1 else -1"
   ],
   "metadata": {
    "collapsed": false
   }
  },
  {
   "cell_type": "markdown",
   "source": [
    "152. Maximum Product Subarray\n",
    "\n",
    "Given an integer array nums, find a\n",
    "subarray\n",
    "that has the largest product, and return the product.\n",
    "\n",
    "The test cases are generated so that the answer will fit in a 32-bit integer."
   ],
   "metadata": {
    "collapsed": false
   }
  },
  {
   "cell_type": "code",
   "execution_count": null,
   "outputs": [],
   "source": [
    "    def maxProduct(self, nums: List[int]) -> int:\n",
    "        res = max(nums)\n",
    "        curmin = curmax = 1\n",
    "\n",
    "        for n in nums:\n",
    "            curmax, curmin = max(n * curmax, n * curmin, n), min(curmax * n, n * curmin, n)\n",
    "            res = max(res, curmax)\n",
    "        return res"
   ],
   "metadata": {
    "collapsed": false
   }
  },
  {
   "cell_type": "markdown",
   "source": [
    "139. Word Break\n",
    "\n",
    "Given a string s and a dictionary of strings wordDict, return true if s can be segmented into a space-separated sequence of one or more dictionary words.\n",
    "\n",
    "Note that the same word in the dictionary may be reused multiple times in the segmentation."
   ],
   "metadata": {
    "collapsed": false
   }
  },
  {
   "cell_type": "code",
   "execution_count": null,
   "outputs": [],
   "source": [
    "    def wordBreak(self, s: str, wordDict: List[str]) -> bool:\n",
    "        dp = [False] * (len(s) + 1)\n",
    "        dp[len(s)] = True\n",
    "\n",
    "        for i in range(len(s) - 1, -1, -1):\n",
    "            for w in wordDict:\n",
    "                if (i + len(w) <= len(s) and s[i:i+len(w)] == w):\n",
    "                    dp[i] = dp[i + len(w)]\n",
    "                if dp[i]:\n",
    "                    break\n",
    "\n",
    "        return dp[0]"
   ],
   "metadata": {
    "collapsed": false
   }
  },
  {
   "cell_type": "markdown",
   "source": [
    "300. Longest Increasing Subsequence\n",
    "\n",
    "Given an integer array nums, return the length of the longest strictly increasing subsequence."
   ],
   "metadata": {
    "collapsed": false
   }
  },
  {
   "cell_type": "code",
   "execution_count": null,
   "outputs": [],
   "source": [
    "    def lengthOfLIS(self, nums: List[int]) -> int:\n",
    "        LIS = [1] * len(nums)\n",
    "\n",
    "        for i in range(len(nums) - 1, -1, -1):\n",
    "            for j in range(i + 1, len(nums)):\n",
    "                if nums[i] < nums[j]:\n",
    "                    LIS[i] = max(LIS[i], 1 + LIS[j])\n",
    "\n",
    "        return max(LIS)"
   ],
   "metadata": {
    "collapsed": false
   }
  },
  {
   "cell_type": "markdown",
   "source": [
    "416. Partition Equal Subset Sum\n",
    "\n",
    "Given an integer array nums, return true if you can partition the array into two subsets such that the sum of the elements in both subsets is equal or false otherwise."
   ],
   "metadata": {
    "collapsed": false
   }
  },
  {
   "cell_type": "code",
   "execution_count": null,
   "outputs": [],
   "source": [
    "    def canPartition(self, nums: List[int]) -> bool:\n",
    "        if sum(nums) % 2:\n",
    "            return False\n",
    "        dp = set()\n",
    "        dp.add(0)\n",
    "        target = sum(nums) / 2\n",
    "\n",
    "        for i in range(len(nums) -1, -1, -1):\n",
    "            worker = set()\n",
    "            for t in dp:\n",
    "                if t + nums[i] == target:\n",
    "                    return True\n",
    "                worker.add(t + nums[i])\n",
    "                worker.add(t)\n",
    "            dp = worker\n",
    "        return True if target in dp else False"
   ],
   "metadata": {
    "collapsed": false
   }
  }
 ],
 "metadata": {
  "kernelspec": {
   "display_name": "Python 3",
   "language": "python",
   "name": "python3"
  },
  "language_info": {
   "codemirror_mode": {
    "name": "ipython",
    "version": 2
   },
   "file_extension": ".py",
   "mimetype": "text/x-python",
   "name": "python",
   "nbconvert_exporter": "python",
   "pygments_lexer": "ipython2",
   "version": "2.7.6"
  }
 },
 "nbformat": 4,
 "nbformat_minor": 0
}
