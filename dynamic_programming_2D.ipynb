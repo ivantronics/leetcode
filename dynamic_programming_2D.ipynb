{
 "cells": [
  {
   "cell_type": "code",
   "execution_count": null,
   "metadata": {
    "collapsed": true
   },
   "outputs": [],
   "source": [
    "from typing import List"
   ]
  },
  {
   "cell_type": "markdown",
   "source": [
    "62. Unique Paths\n",
    "\n",
    "There is a robot on an m x n grid. The robot is initially located at the top-left corner (i.e., grid[0][0]). The robot tries to move to the bottom-right corner (i.e., grid[m - 1][n - 1]). The robot can only move either down or right at any point in time.\n",
    "\n",
    "Given the two integers m and n, return the number of possible unique paths that the robot can take to reach the bottom-right corner.\n",
    "\n",
    "The test cases are generated so that the answer will be less than or equal to 2 * 10^9."
   ],
   "metadata": {
    "collapsed": false
   }
  },
  {
   "cell_type": "code",
   "execution_count": null,
   "outputs": [],
   "source": [
    "class Solution:\n",
    "    def uniquePaths(self, m: int, n: int) -> int:\n",
    "        row = [1] * n\n",
    "        for i in range(m - 1):\n",
    "            newRow = [1] * n\n",
    "            for j in range(n - 2, -1, -1):\n",
    "                newRow[j] = newRow[j + 1] + row[j]\n",
    "            row = newRow\n",
    "        return row[0]"
   ],
   "metadata": {
    "collapsed": false
   }
  },
  {
   "cell_type": "markdown",
   "source": [
    "1143. Longest Common Subsequence\n",
    "\n",
    "Given two strings text1 and text2, return the length of their longest common subsequence. If there is no common subsequence, return 0.\n",
    "\n",
    "A subsequence of a string is a new string generated from the original string with some characters (can be none) deleted without changing the relative order of the remaining characters.\n",
    "\n",
    "    For example, \"ace\" is a subsequence of \"abcde\".\n",
    "\n",
    "A common subsequence of two strings is a subsequence that is common to both strings."
   ],
   "metadata": {
    "collapsed": false
   }
  },
  {
   "cell_type": "code",
   "execution_count": null,
   "outputs": [],
   "source": [
    "    def longestCommonSubsequence(self, text1: str, text2: str) -> int:\n",
    "        grid = [[0 for _ in range(len(text2) + 1)] for _ in range(len(text1) + 1)]\n",
    "        for i in range(len(text1) - 1, -1, -1):\n",
    "            for j in range(len(text2) -1, -1, -1):\n",
    "                if text1[i] == text2[j]:\n",
    "                    grid[i][j] = 1 + grid[i + 1][j + 1]\n",
    "                else:\n",
    "                    grid[i][j] = max(grid[i + 1][j], grid[i][j + 1])\n",
    "        return grid[0][0]"
   ],
   "metadata": {
    "collapsed": false
   }
  },
  {
   "cell_type": "markdown",
   "source": [
    "309. Best Time to Buy and Sell Stock with Cooldown\n",
    "\n",
    "You are given an array prices where prices[i] is the price of a given stock on the ith day.\n",
    "\n",
    "Find the maximum profit you can achieve. You may complete as many transactions as you like (i.e., buy one and sell one share of the stock multiple times) with the following restrictions:\n",
    "\n",
    "    After you sell your stock, you cannot buy stock on the next day (i.e., cooldown one day).\n",
    "\n",
    "Note: You may not engage in multiple transactions simultaneously (i.e., you must sell the stock before you buy again)."
   ],
   "metadata": {
    "collapsed": false
   }
  },
  {
   "cell_type": "code",
   "execution_count": null,
   "outputs": [],
   "source": [
    "    def maxProfit(self, prices: List[int]) -> int:\n",
    "        hm = {}\n",
    "\n",
    "        def dfs(i, buying):\n",
    "            if i >= len(prices):\n",
    "                return 0\n",
    "            if (i, buying) in hm:\n",
    "                return hm[(i, buying)]\n",
    "            cooldown = dfs(i + 1, buying)\n",
    "            if buying:\n",
    "                buy = dfs(i + 1, not buying) - prices[i]\n",
    "                hm[(i, buying)] = max(buy, cooldown)\n",
    "            else:\n",
    "                sell = dfs(i + 2, not buying) + prices[i]\n",
    "                hm[(i, buying)] = max(sell, cooldown)\n",
    "            return hm[(i, buying)]\n",
    "        return dfs(0, True)"
   ],
   "metadata": {
    "collapsed": false
   }
  },
  {
   "cell_type": "markdown",
   "source": [
    "518. Coin Change II\n",
    "\n",
    "You are given an integer array coins representing coins of different denominations and an integer amount representing a total amount of money.\n",
    "\n",
    "Return the number of combinations that make up that amount. If that amount of money cannot be made up by any combination of the coins, return 0.\n",
    "\n",
    "You may assume that you have an infinite number of each kind of coin.\n",
    "\n",
    "The answer is guaranteed to fit into a signed 32-bit integer."
   ],
   "metadata": {
    "collapsed": false
   }
  },
  {
   "cell_type": "code",
   "execution_count": null,
   "outputs": [],
   "source": [
    "    def change(self, amount: int, coins: List[int]) -> int:\n",
    "        # MEMOIZATION\n",
    "        # Time: O(n*m)\n",
    "        # Memory: O(n*m)\n",
    "        cache = {}\n",
    "\n",
    "        def dfs(i, a):\n",
    "            if a == amount:\n",
    "                return 1\n",
    "            if a > amount:\n",
    "                return 0\n",
    "            if i == len(coins):\n",
    "                return 0\n",
    "            if (i, a) in cache:\n",
    "                return cache[(i, a)]\n",
    "\n",
    "            cache[(i, a)] = dfs(i, a + coins[i]) + dfs(i + 1, a)\n",
    "            return cache[(i, a)]\n",
    "\n",
    "        return dfs(0, 0)\n",
    "\n",
    "        # DYNAMIC PROGRAMMING\n",
    "        # Time: O(n*m)\n",
    "        # Memory: O(n*m)\n",
    "        dp = [[0] * (len(coins) + 1) for i in range(amount + 1)]\n",
    "        dp[0] = [1] * (len(coins) + 1)\n",
    "        for a in range(1, amount + 1):\n",
    "            for i in range(len(coins) - 1, -1, -1):\n",
    "                dp[a][i] = dp[a][i + 1]\n",
    "                if a - coins[i] >= 0:\n",
    "                    dp[a][i] += dp[a - coins[i]][i]\n",
    "        return dp[amount][0]\n",
    "\n",
    "        # DYNAMIC PROGRAMMING\n",
    "        # Time: O(n*m)\n",
    "        # Memory: O(n) where n = amount\n",
    "        dp = [0] * (amount + 1)\n",
    "        dp[0] = 1\n",
    "        for i in range(len(coins) - 1, -1, -1):\n",
    "            nextDP = [0] * (amount + 1)\n",
    "            nextDP[0] = 1\n",
    "\n",
    "            for a in range(1, amount + 1):\n",
    "                nextDP[a] = dp[a]\n",
    "                if a - coins[i] >= 0:\n",
    "                    nextDP[a] += nextDP[a - coins[i]]\n",
    "            dp = nextDP\n",
    "        return dp[amount]"
   ],
   "metadata": {
    "collapsed": false
   }
  },
  {
   "cell_type": "markdown",
   "source": [
    "494. Target Sum\n",
    "\n",
    "You are given an integer array nums and an integer target.\n",
    "\n",
    "You want to build an expression out of nums by adding one of the symbols '+' and '-' before each integer in nums and then concatenate all the integers.\n",
    "\n",
    "    For example, if nums = [2, 1], you can add a '+' before 2 and a '-' before 1 and concatenate them to build the expression \"+2-1\".\n",
    "\n",
    "Return the number of different expressions that you can build, which evaluates to target."
   ],
   "metadata": {
    "collapsed": false
   }
  },
  {
   "cell_type": "code",
   "execution_count": null,
   "outputs": [],
   "source": [
    "    def findTargetSumWays(self, nums: List[int], target: int) -> int:\n",
    "        hm = {}\n",
    "\n",
    "        def backtrack(idx, total):\n",
    "            if idx == len(nums):\n",
    "                return 1 if total == target else 0\n",
    "            if (idx, total) in hm:\n",
    "                return hm[(idx, total)]\n",
    "            hm[(idx, total)] = backtrack(idx + 1, total + nums[idx]) + backtrack(idx + 1, total - nums[idx])\n",
    "\n",
    "            return hm[(idx, total)]\n",
    "\n",
    "        return backtrack(0, 0)"
   ],
   "metadata": {
    "collapsed": false
   }
  },
  {
   "cell_type": "markdown",
   "source": [
    "97. Interleaving String\n",
    "\n",
    "Given strings s1, s2, and s3, find whether s3 is formed by an interleaving of s1 and s2.\n",
    "\n",
    "An interleaving of two strings s and t is a configuration where s and t are divided into n and m\n",
    "substrings\n",
    "respectively, such that:\n",
    "\n",
    "    s = s1 + s2 + ... + sn\n",
    "    t = t1 + t2 + ... + tm\n",
    "    |n - m| <= 1\n",
    "    The interleaving is s1 + t1 + s2 + t2 + s3 + t3 + ... or t1 + s1 + t2 + s2 + t3 + s3 + ...\n",
    "\n",
    "Note: a + b is the concatenation of strings a and b."
   ],
   "metadata": {
    "collapsed": false
   }
  },
  {
   "cell_type": "code",
   "execution_count": null,
   "outputs": [],
   "source": [
    "    def isInterleave(self, s1: str, s2: str, s3: str) -> bool:\n",
    "        if len(s1) + len(s2) != len(s3):\n",
    "            return False\n",
    "        dp = [[False] * (len(s2) + 1) for _ in range(len(s1) + 1)]\n",
    "        dp[len(s1)][len(s2)] = True\n",
    "\n",
    "        for i in range(len(s1), -1, -1):\n",
    "            for j in range(len(s2), -1, -1):\n",
    "                if i < len(s1) and s1[i] == s3[i + j] and dp[i + 1][j]:\n",
    "                    dp[i][j] = True\n",
    "                if j < len(s2) and s2[j] == s3[i + j] and dp[i][j + 1]:\n",
    "                    dp[i][j] = True\n",
    "\n",
    "        return dp[0][0]"
   ],
   "metadata": {
    "collapsed": false
   }
  },
  {
   "cell_type": "markdown",
   "source": [
    "329. Longest Increasing Path in a Matrix\n",
    "\n",
    "Given an m x n integers matrix, return the length of the longest increasing path in matrix.\n",
    "\n",
    "From each cell, you can either move in four directions: left, right, up, or down. You may not move diagonally or move outside the boundary (i.e., wrap-around is not allowed)."
   ],
   "metadata": {
    "collapsed": false
   }
  },
  {
   "cell_type": "code",
   "execution_count": null,
   "outputs": [],
   "source": [
    "    def longestIncreasingPath(self, matrix: List[List[int]]) -> int:\n",
    "        ROWS, COLS = len(matrix), len(matrix[0])\n",
    "        hm = {}\n",
    "\n",
    "        def dfs(r, c, prevVal):\n",
    "            if r < 0 or r == ROWS or c < 0 or c == COLS or matrix[r][c] <= prevVal:\n",
    "                return 0\n",
    "            if (r, c) in hm:\n",
    "                return hm[(r, c)]\n",
    "\n",
    "            res = 1\n",
    "            res = max(res, 1 + dfs(r + 1, c, matrix[r][c]))\n",
    "            res = max(res, 1 + dfs(r - 1, c, matrix[r][c]))\n",
    "            res = max(res, 1 + dfs(r, c + 1, matrix[r][c]))\n",
    "            res = max(res, 1 + dfs(r, c - 1, matrix[r][c]))\n",
    "            hm[(r, c)] = res\n",
    "            return res\n",
    "\n",
    "        for r in range(ROWS):\n",
    "            for c in range(COLS):\n",
    "                dfs(r, c, -1)\n",
    "\n",
    "        return max(hm.values())"
   ],
   "metadata": {
    "collapsed": false
   }
  },
  {
   "cell_type": "markdown",
   "source": [
    "115. Distinct Subsequences\n",
    "\n",
    "Given two strings s and t, return the number of distinct\n",
    "subsequences\n",
    "of s which equals t.\n",
    "\n",
    "The test cases are generated so that the answer fits on a 32-bit signed integer."
   ],
   "metadata": {
    "collapsed": false
   }
  },
  {
   "cell_type": "code",
   "execution_count": null,
   "outputs": [],
   "source": [
    "    def numDistinct(self, s: str, t: str) -> int:\n",
    "        cache = {}\n",
    "\n",
    "        def dfs(i, j):\n",
    "            if j == len(t):\n",
    "                return 1\n",
    "            if i == len(s):\n",
    "                return 0\n",
    "            if (i, j) in cache:\n",
    "                return cache[(i, j)]\n",
    "\n",
    "            if s[i] == t[j]:\n",
    "                cache[(i, j)] = dfs(i + 1, j + 1) + dfs(i + 1, j)\n",
    "            else:\n",
    "                cache[(i, j)] = dfs(i + 1, j)\n",
    "\n",
    "            return cache[(i, j)]\n",
    "\n",
    "        return dfs(0, 0)"
   ],
   "metadata": {
    "collapsed": false
   }
  },
  {
   "cell_type": "markdown",
   "source": [
    "72. Edit Distance\n",
    "\n",
    "Given two strings word1 and word2, return the minimum number of operations required to convert word1 to word2.\n",
    "\n",
    "You have the following three operations permitted on a word:\n",
    "\n",
    "    Insert a character\n",
    "    Delete a character\n",
    "    Replace a character"
   ],
   "metadata": {
    "collapsed": false
   }
  },
  {
   "cell_type": "code",
   "execution_count": null,
   "outputs": [],
   "source": [
    "    def minDistance(self, word1: str, word2: str) -> int:\n",
    "        cache = [[float(\"inf\")] * (len(word2) + 1) for _ in range(len(word1) + 1)]\n",
    "        for j in range(len(word2) + 1):\n",
    "            cache[len(word1)][j] = len(word2) - j\n",
    "        for i in range(len(word1) + 1):\n",
    "            cache[i][len(word2)] = len(word1) - i\n",
    "\n",
    "        for i in range(len(word1) - 1, -1, -1):\n",
    "            for j in range(len(word2) -1, -1, -1):\n",
    "                if word1[i] == word2[j]:\n",
    "                    cache[i][j] = cache[i + 1][j + 1]\n",
    "                else:\n",
    "                    cache[i][j] = 1 + min(cache[i + 1][j], cache[i][j + 1], cache[i + 1][j + 1])\n",
    "\n",
    "        return cache[0][0]"
   ],
   "metadata": {
    "collapsed": false
   }
  },
  {
   "cell_type": "markdown",
   "source": [
    "312. Burst Balloons\n",
    "\n",
    "You are given n balloons, indexed from 0 to n - 1. Each balloon is painted with a number on it represented by an array nums. You are asked to burst all the balloons.\n",
    "\n",
    "If you burst the ith balloon, you will get nums[i - 1] * nums[i] * nums[i + 1] coins. If i - 1 or i + 1 goes out of bounds of the array, then treat it as if there is a balloon with a 1 painted on it.\n",
    "\n",
    "Return the maximum coins you can collect by bursting the balloons wisely."
   ],
   "metadata": {
    "collapsed": false
   }
  },
  {
   "cell_type": "code",
   "execution_count": null,
   "outputs": [],
   "source": [
    "    def maxCoins(self, nums: List[int]) -> int:\n",
    "        nums = [1] + nums + [1]\n",
    "        cache = {}\n",
    "\n",
    "        def dfs(l, r):\n",
    "            if l > r:\n",
    "                return 0\n",
    "            if (l, r) in cache:\n",
    "                return cache[(l, r)]\n",
    "            cache[(l, r)] = 0\n",
    "            for i in range(l, r + 1):\n",
    "                coins = nums[l - 1] * nums[i] * nums[r + 1]\n",
    "                coins += dfs(l, i - 1) + dfs(i + 1, r)\n",
    "                cache[(l, r)] = max(cache[(l, r)], coins)\n",
    "            return cache[(l, r)]\n",
    "        return dfs(1, len(nums) - 2)"
   ],
   "metadata": {
    "collapsed": false
   }
  },
  {
   "cell_type": "markdown",
   "source": [
    "10. Regular Expression Matching\n",
    "\n",
    "Given an input string s and a pattern p, implement regular expression matching with support for '.' and '*' where:\n",
    "\n",
    "    '.' Matches any single character.\n",
    "    '*' Matches zero or more of the preceding element.\n",
    "\n",
    "The matching should cover the entire input string (not partial)."
   ],
   "metadata": {
    "collapsed": false
   }
  },
  {
   "cell_type": "code",
   "execution_count": null,
   "outputs": [],
   "source": [
    "    def isMatch(self, s: str, p: str) -> bool:\n",
    "        cache = {}\n",
    "\n",
    "        def dfs(i, j):\n",
    "            if (i, j) in cache:\n",
    "                return cache[(i, j)]\n",
    "            if i >= len(s) and j >= len(p):\n",
    "                return True\n",
    "            if j >= len(p):\n",
    "                return False\n",
    "\n",
    "            match = i < len(s) and (s[i] == p[j] or p[j] == \".\")\n",
    "            if (j + 1) < len(p) and p[j + 1] == \"*\":\n",
    "                cache[(i, j)] = dfs(i, j + 2) or (  # dont use *\n",
    "                        match and dfs(i + 1, j)\n",
    "                )  # use *\n",
    "                return cache[(i, j)]\n",
    "            if match:\n",
    "                cache[(i, j)] = dfs(i + 1, j + 1)\n",
    "                return cache[(i, j)]\n",
    "            cache[(i, j)] = False\n",
    "            return False\n",
    "\n",
    "        return dfs(0, 0)"
   ],
   "metadata": {
    "collapsed": false
   }
  }
 ],
 "metadata": {
  "kernelspec": {
   "display_name": "Python 3",
   "language": "python",
   "name": "python3"
  },
  "language_info": {
   "codemirror_mode": {
    "name": "ipython",
    "version": 2
   },
   "file_extension": ".py",
   "mimetype": "text/x-python",
   "name": "python",
   "nbconvert_exporter": "python",
   "pygments_lexer": "ipython2",
   "version": "2.7.6"
  }
 },
 "nbformat": 4,
 "nbformat_minor": 0
}
