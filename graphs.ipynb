{
 "cells": [
  {
   "cell_type": "code",
   "execution_count": null,
   "metadata": {
    "collapsed": true
   },
   "outputs": [],
   "source": [
    "from typing import List\n",
    "from collections import deque, defaultdict\n",
    "\n",
    "class GraphNode:\n",
    "    def __init__(self, val = 0, neighbors = None):\n",
    "        self.val = val\n",
    "        self.neighbors = neighbors if neighbors is not None else []"
   ]
  },
  {
   "cell_type": "markdown",
   "source": [
    "200. Number of Islands\n",
    "\n",
    "Given an m x n 2D binary grid grid which represents a map of '1's (land) and '0's (water), return the number of islands.\n",
    "\n",
    "An island is surrounded by water and is formed by connecting adjacent lands horizontally or vertically. You may assume all four edges of the grid are all surrounded by water."
   ],
   "metadata": {
    "collapsed": false
   }
  },
  {
   "cell_type": "code",
   "execution_count": null,
   "outputs": [],
   "source": [
    "class Solution:\n",
    "    def numIslands(self, grid: List[List[str]]) -> int:\n",
    "        if not grid or not grid[0]:\n",
    "            return 0\n",
    "        rows, cols = len(grid), len(grid[0])\n",
    "        visited = set()\n",
    "        islands = 0\n",
    "\n",
    "        def dfs(r, c):\n",
    "            if (r not in range(rows)\n",
    "                or c not in range(cols)\n",
    "                or grid[r][c] == \"0\"\n",
    "                or (r, c) in visited\n",
    "            ):\n",
    "               return\n",
    "\n",
    "            visited.add((r, c))\n",
    "            directions = [[0, 1], [0, -1], [1, 0], [-1, 0]]\n",
    "\n",
    "            for dr, dc in directions:\n",
    "                dfs(r + dr, c + dc)\n",
    "\n",
    "        for r in range(rows):\n",
    "            for c in range(cols):\n",
    "                if grid[r][c] == \"1\" and (r, c) not in visited:\n",
    "                    islands += 1\n",
    "                    dfs(r, c)\n",
    "        return islands"
   ],
   "metadata": {
    "collapsed": false
   }
  },
  {
   "cell_type": "markdown",
   "source": [
    "33. Clone Graph\n",
    "\n",
    "Given a reference of a node in a connected undirected graph.\n",
    "\n",
    "Return a deep copy (clone) of the graph.\n",
    "\n",
    "Each node in the graph contains a value (int) and a list (List[Node]) of its neighbors.\n",
    "\n",
    "class Node {\n",
    "    public int val;\n",
    "    public List<Node> neighbors;\n",
    "}\n",
    "\n",
    "Test case format:\n",
    "\n",
    "For simplicity, each node's value is the same as the node's index (1-indexed). For example, the first node with val == 1, the second node with val == 2, and so on. The graph is represented in the test case using an adjacency list.\n",
    "\n",
    "An adjacency list is a collection of unordered lists used to represent a finite graph. Each list describes the set of neighbors of a node in the graph.\n",
    "\n",
    "The given node will always be the first node with val = 1. You must return the copy of the given node as a reference to the cloned graph."
   ],
   "metadata": {
    "collapsed": false
   }
  },
  {
   "cell_type": "code",
   "execution_count": null,
   "outputs": [],
   "source": [
    "    def cloneGraph(self, node: 'GraphNode') -> 'GraphNode':\n",
    "        old_to_new = {}\n",
    "\n",
    "        def dfs(node):\n",
    "            if node in old_to_new:\n",
    "                return old_to_new[node]\n",
    "\n",
    "            copy = GraphNode(node.val)\n",
    "            old_to_new[node] = copy\n",
    "            for neighbor in node.neighbors:\n",
    "                copy.neighbors.append(dfs(neighbor))\n",
    "\n",
    "            return copy\n",
    "\n",
    "        return dfs(node) if node else None"
   ],
   "metadata": {
    "collapsed": false
   }
  },
  {
   "cell_type": "markdown",
   "source": [
    "695. Max Area of Island\n",
    "\n",
    "You are given an m x n binary matrix grid. An island is a group of 1's (representing land) connected 4-directionally (horizontal or vertical.) You may assume all four edges of the grid are surrounded by water.\n",
    "\n",
    "The area of an island is the number of cells with a value 1 in the island.\n",
    "\n",
    "Return the maximum area of an island in grid. If there is no island, return 0."
   ],
   "metadata": {
    "collapsed": false
   }
  },
  {
   "cell_type": "code",
   "execution_count": null,
   "outputs": [],
   "source": [
    "    def maxAreaOfIsland(self, grid: List[List[int]]) -> int:\n",
    "        ROWS, COLS = len(grid), len(grid[0])\n",
    "        visited = set()\n",
    "        result = 0\n",
    "\n",
    "        def dfs(r, c):\n",
    "            if (r < 0 or r == ROWS or c < 0 or c == COLS or\n",
    "            grid[r][c] == 0 or (r, c) in visited):\n",
    "                return 0\n",
    "            visited.add((r, c))\n",
    "            return (1 + dfs(r + 1, c)\n",
    "                    + dfs(r - 1, c)\n",
    "                    + dfs(r, c + 1)\n",
    "                    + dfs(r, c - 1))\n",
    "\n",
    "        for r in ROWS:\n",
    "            for c in COLS:\n",
    "                result = max(dfs(r, c), result)\n",
    "\n",
    "        return result"
   ],
   "metadata": {
    "collapsed": false
   }
  },
  {
   "cell_type": "markdown",
   "source": [
    "417. Pacific Atlantic Water Flow\n",
    "\n",
    "There is an m x n rectangular island that borders both the Pacific Ocean and Atlantic Ocean. The Pacific Ocean touches the island's left and top edges, and the Atlantic Ocean touches the island's right and bottom edges.\n",
    "\n",
    "The island is partitioned into a grid of square cells. You are given an m x n integer matrix heights where heights[r][c] represents the height above sea level of the cell at coordinate (r, c).\n",
    "\n",
    "The island receives a lot of rain, and the rain water can flow to neighboring cells directly north, south, east, and west if the neighboring cell's height is less than or equal to the current cell's height. Water can flow from any cell adjacent to an ocean into the ocean.\n",
    "\n",
    "Return a 2D list of grid coordinates result where result[i] = [ri, ci] denotes that rain water can flow from cell (ri, ci) to both the Pacific and Atlantic oceans."
   ],
   "metadata": {
    "collapsed": false
   }
  },
  {
   "cell_type": "code",
   "execution_count": null,
   "outputs": [],
   "source": [
    "    def pacificAtlantic(self, heights: List[List[int]]) -> List[List[int]]:\n",
    "        ROWS, COLS = len(heights), len(heights[0])\n",
    "        pacific, atlantic = set(), set()\n",
    "\n",
    "        def dfs(r, c, visited, previous_height):\n",
    "            if ((r, c) in visited or r < 0 or c < 0 or r == ROWS or c == COLS\n",
    "            or heights[r][c] < previous_height):\n",
    "                return\n",
    "            visited.add((r, c))\n",
    "            dfs(r + 1, c, visited, heights[r][c])\n",
    "            dfs(r - 1, c, visited, heights[r][c])\n",
    "            dfs(r, c + 1, visited, heights[r][c])\n",
    "            dfs(r, c - 1, visited, heights[r][c])\n",
    "\n",
    "\n",
    "\n",
    "        for c in range(COLS):\n",
    "            dfs(0, c, pacific, heights[0][c])\n",
    "            dfs(ROWS - 1, c, atlantic, heights[ROWS - 1][c])\n",
    "\n",
    "        for r in range(ROWS):\n",
    "            dfs(r, 0, pacific, heights[r][0])\n",
    "            dfs(r, COLS - 1, atlantic, heights[r][COLS - 1])\n",
    "\n",
    "        res = []\n",
    "        for r in range(ROWS):\n",
    "            for c in range(COLS):\n",
    "                if (r, c) in pacific and (r, c) in atlantic:\n",
    "                    res.append([r, c])\n",
    "\n",
    "        return res"
   ],
   "metadata": {
    "collapsed": false
   }
  },
  {
   "cell_type": "markdown",
   "source": [
    "130. Surrounded Regions\n",
    "\n",
    "Given an m x n matrix board containing 'X' and 'O', capture all regions that are 4-directionally surrounded by 'X'.\n",
    "\n",
    "A region is captured by flipping all 'O's into 'X's in that surrounded region."
   ],
   "metadata": {
    "collapsed": false
   }
  },
  {
   "cell_type": "code",
   "execution_count": null,
   "outputs": [],
   "source": [
    "    def solve(self, board: List[List[str]]) -> None:\n",
    "        ROWS, COLS = len(board), len(board[0])\n",
    "\n",
    "        def capture(r, c):\n",
    "            if r < 0 or c < 0 \\\n",
    "                    or r == ROWS \\\n",
    "                    or c == COLS \\\n",
    "                    or board[r][c] != \"O\":\n",
    "                return\n",
    "\n",
    "            board[r][c] = \"T\"\n",
    "            capture(r + 1, c)\n",
    "            capture(r - 1, c)\n",
    "            capture(r, c + 1)\n",
    "            capture(r, c - 1)\n",
    "\n",
    "        for r in range(ROWS):\n",
    "            for c in range(COLS):\n",
    "                if (board[r][c] == \"O\" and (r in [0, ROWS - 1] or c in [0, COLS - 1])):\n",
    "                    capture(r, c)\n",
    "\n",
    "        for r in range(ROWS):\n",
    "            for c in range(COLS):\n",
    "                if board[r][c] == \"O\":\n",
    "                    board[r][c] = \"X\"\n",
    "                if board[r][c] == \"T\":\n",
    "                    board[r][c] = \"O\""
   ],
   "metadata": {
    "collapsed": false
   }
  },
  {
   "cell_type": "markdown",
   "source": [
    "994. Rotting Oranges\n",
    "\n",
    "You are given an m x n grid where each cell can have one of three values:\n",
    "\n",
    "    0 representing an empty cell,\n",
    "    1 representing a fresh orange, or\n",
    "    2 representing a rotten orange.\n",
    "\n",
    "Every minute, any fresh orange that is 4-directionally adjacent to a rotten orange becomes rotten.\n",
    "\n",
    "Return the minimum number of minutes that must elapse until no cell has a fresh orange. If this is impossible, return -1."
   ],
   "metadata": {
    "collapsed": false
   }
  },
  {
   "cell_type": "code",
   "execution_count": null,
   "outputs": [],
   "source": [
    "    def orangesRotting(self, grid: List[List[int]]) -> int:\n",
    "        q = deque()\n",
    "        time, fresh = 0, 0\n",
    "        ROWS, COLS = len(grid), len(grid[0])\n",
    "\n",
    "        for r in range(ROWS):\n",
    "            for c in range(COLS):\n",
    "                if grid[r][c] == 1:\n",
    "                    fresh += 1\n",
    "                elif grid[r][c] == 2:\n",
    "                    q.append([r, c])\n",
    "\n",
    "        directions = [[1, 0], [-1, 0], [0, 1], [0, -1]]\n",
    "\n",
    "        while q and fresh > 0:\n",
    "            for i in range(len(q)):\n",
    "                r, c = q.popleft()\n",
    "                for dr, dc in directions:\n",
    "                    row, col = r + dr, c + dc\n",
    "                    if (row < 0 or col < 0 or row == ROWS or col == COLS or grid[row][col] != 1):\n",
    "                        continue\n",
    "                    grid[row][col] = 2\n",
    "                    q.append([row, col])\n",
    "                    fresh -= 1\n",
    "            time += 1\n",
    "\n",
    "        return time if not fresh else -1"
   ],
   "metadata": {
    "collapsed": false
   }
  },
  {
   "cell_type": "markdown",
   "source": [
    "663. Walls and Gates\n",
    "\n",
    "You are given a m x n 2D grid initialized with these three possible values.\n",
    "\n",
    "-1 - A wall or an obstacle.\n",
    "0 - A gate.\n",
    "INF - Infinity means an empty room. We use the value 2^31 - 1 = 2147483647 to represent INF as you may assume that the distance to a gate is less than 2147483647.\n",
    "Fill each empty room with the distance to its nearest gate. If it is impossible to reach a Gate, that room should remain filled with INF"
   ],
   "metadata": {
    "collapsed": false
   }
  },
  {
   "cell_type": "code",
   "execution_count": null,
   "outputs": [],
   "source": [
    "    def walls_and_gates(self, rooms: List[List[int]]):\n",
    "        ROWS, COLS = len(rooms), len(rooms[0])\n",
    "        visited = set()\n",
    "        q = deque()\n",
    "\n",
    "        def addRoom(r, c):\n",
    "            if (r < 0 or r == ROWS or c < 0 or c == COLS or (r, c) in visited or rooms[r][c] == -1):\n",
    "                return\n",
    "            visited.add((r, c))\n",
    "            q.append([r, c])\n",
    "\n",
    "        for r in range(ROWS):\n",
    "            for c in range(COLS):\n",
    "                if rooms[r][c] == 0:\n",
    "                    q.append([r, c])\n",
    "                    visited.add((r, c))\n",
    "\n",
    "        distance = 0\n",
    "        while q:\n",
    "            for i in range(len(q)):\n",
    "                r, c = q.popleft()\n",
    "                rooms[r][c] = distance\n",
    "                addRoom(r + 1, c)\n",
    "                addRoom(r - 1, c)\n",
    "                addRoom(r, c + 1)\n",
    "                addRoom(r, c - 1)\n",
    "\n",
    "            distance += 1"
   ],
   "metadata": {
    "collapsed": false
   }
  },
  {
   "cell_type": "markdown",
   "source": [
    "207. Course Schedule\n",
    "\n",
    "There are a total of numCourses courses you have to take, labeled from 0 to numCourses - 1. You are given an array prerequisites where prerequisites[i] = [ai, bi] indicates that you must take course bi first if you want to take course ai.\n",
    "\n",
    "    For example, the pair [0, 1], indicates that to take course 0 you have to first take course 1.\n",
    "\n",
    "Return true if you can finish all courses. Otherwise, return false."
   ],
   "metadata": {
    "collapsed": false
   }
  },
  {
   "cell_type": "code",
   "execution_count": null,
   "outputs": [],
   "source": [
    "    def canFinish(self, numCourses: int, prerequisites: List[List[int]]) -> bool:\n",
    "        prereqMap = {i:[] for i in range(numCourses)}\n",
    "        visited = set()\n",
    "        for crs, pre in prerequisites:\n",
    "            prereqMap[crs].append(pre)\n",
    "\n",
    "        def dfs(crs):\n",
    "            if crs in visited:\n",
    "                return False\n",
    "            if not prereqMap[crs]:\n",
    "                return True\n",
    "            visited.add(crs)\n",
    "            for pre in prereqMap[crs]:\n",
    "                if not dfs(pre): return False\n",
    "            visited.remove(crs)\n",
    "            prereqMap[crs] = []\n",
    "            return True\n",
    "\n",
    "        for crs in range(numCourses):\n",
    "            if not dfs(crs): return False\n",
    "\n",
    "        return True"
   ],
   "metadata": {
    "collapsed": false
   }
  },
  {
   "cell_type": "markdown",
   "source": [
    "210. Course Schedule II\n",
    "\n",
    "There are a total of numCourses courses you have to take, labeled from 0 to numCourses - 1. You are given an array prerequisites where prerequisites[i] = [ai, bi] indicates that you must take course bi first if you want to take course ai.\n",
    "\n",
    "    For example, the pair [0, 1], indicates that to take course 0 you have to first take course 1.\n",
    "\n",
    "Return the ordering of courses you should take to finish all courses. If there are many valid answers, return any of them. If it is impossible to finish all courses, return an empty array."
   ],
   "metadata": {
    "collapsed": false
   }
  },
  {
   "cell_type": "code",
   "execution_count": null,
   "outputs": [],
   "source": [
    "    def findOrder(self, numCourses: int, prerequisites: List[List[int]]) -> List[int]:\n",
    "        pMap = {c:[] for c in range(numCourses)}\n",
    "        visit, done = set(), set()\n",
    "        output = []\n",
    "        for crs, pre in prerequisites:\n",
    "            pMap[crs].append(pre)\n",
    "\n",
    "        def dfs(crs):\n",
    "            if crs in done:\n",
    "                return False\n",
    "            if crs in visit:\n",
    "                return True\n",
    "\n",
    "            done.add(crs)\n",
    "\n",
    "            for pre in pMap[crs]:\n",
    "                if not dfs(pre):\n",
    "                    return False\n",
    "\n",
    "            done.remove(crs)\n",
    "            visit.add(crs)\n",
    "            output.append(crs)\n",
    "\n",
    "            return True\n",
    "\n",
    "        for c in range(numCourses):\n",
    "            if not dfs(c):\n",
    "                return []\n",
    "\n",
    "        return output"
   ],
   "metadata": {
    "collapsed": false
   }
  },
  {
   "cell_type": "markdown",
   "source": [
    "684. Redundant Connection\n",
    "\n",
    "In this problem, a tree is an undirected graph that is connected and has no cycles.\n",
    "\n",
    "You are given a graph that started as a tree with n nodes labeled from 1 to n, with one additional edge added. The added edge has two different vertices chosen from 1 to n, and was not an edge that already existed. The graph is represented as an array edges of length n where edges[i] = [ai, bi] indicates that there is an edge between nodes ai and bi in the graph.\n",
    "\n",
    "Return an edge that can be removed so that the resulting graph is a tree of n nodes. If there are multiple answers, return the answer that occurs last in the input."
   ],
   "metadata": {
    "collapsed": false
   }
  },
  {
   "cell_type": "code",
   "execution_count": null,
   "outputs": [],
   "source": [
    "    def findRedundantConnection(self, edges: List[List[int]]) -> List[int]:\n",
    "        parent = [i for i in range(len(edges) + 1)]\n",
    "        rank = [1] * (len(edges) + 1)\n",
    "\n",
    "        def find(n):\n",
    "            p = parent[n]\n",
    "\n",
    "            while p != parent[p]:\n",
    "                parent[p] = parent[parent[p]]\n",
    "                p = parent[p]\n",
    "\n",
    "            return p\n",
    "\n",
    "        def union(n1, n2):\n",
    "            p1, p2 = find(n1), find(n2)\n",
    "\n",
    "            if p1 == p2:\n",
    "                return False\n",
    "\n",
    "            if rank[p1] > rank[p2]:\n",
    "                parent[p2] = p1\n",
    "                rank[p1] += rank[p2]\n",
    "            else:\n",
    "                parent[p1] = p2\n",
    "                rank[p2] += rank[p1]\n",
    "            return True\n",
    "\n",
    "        for n1, n2 in edges:\n",
    "            if not union(n1, n2):\n",
    "                return [n1, n2]"
   ],
   "metadata": {
    "collapsed": false
   }
  },
  {
   "cell_type": "markdown",
   "source": [
    "323. Number of component in an Undirected Graph\n",
    "\n",
    "You are given a graph of n nodes. You are given an integer n and an array edges where edges[i] = [ai, bi] indicates that there is an edge between ai and bi in the graph.\n",
    "\n",
    "Return the number of connected components in a graph."
   ],
   "metadata": {
    "collapsed": false
   }
  },
  {
   "cell_type": "code",
   "execution_count": null,
   "outputs": [],
   "source": [
    "class UnionFind:\n",
    "    def __init__(self):\n",
    "        self.f = {}\n",
    "\n",
    "    def findParent(self, x):\n",
    "        y = self.f.get(x, x)\n",
    "        if x != y:\n",
    "            y = self.f[x] = self.findParent(y)\n",
    "        return y\n",
    "\n",
    "    def union(self, x, y):\n",
    "        self.f[self.findParent(x)] = self.findParent(y)\n",
    "\n",
    "class Solution:\n",
    "    def countComponents(self, n: int, edges: List[List[int]]) -> int:\n",
    "        dsu = UnionFind()\n",
    "        for a, b in edges:\n",
    "            dsu.union(a, b)\n",
    "        return len(set(dsu.findParent(x) for x in range(n)))"
   ],
   "metadata": {
    "collapsed": false
   }
  },
  {
   "cell_type": "markdown",
   "source": [
    "178. Graph Valid Tree\n",
    "\n",
    "Given n nodes labeled from 0 to n - 1 and a list of undirected edges (each edge is a pair of nodes), write a function to check whether these edges make up a valid tree."
   ],
   "metadata": {
    "collapsed": false
   }
  },
  {
   "cell_type": "code",
   "execution_count": null,
   "outputs": [],
   "source": [
    "    def valid_tree(self, n: int, edges: List[List[int]]) -> bool:\n",
    "        if not n:\n",
    "            return True\n",
    "\n",
    "        adjlist = {i:[] for i in range(n)}\n",
    "        visited = set()\n",
    "\n",
    "        for n1, n2 in edges:\n",
    "            adjlist[n1].append(n2)\n",
    "            adjlist[n2].append(n1)\n",
    "\n",
    "        def dfs(node, prev):\n",
    "            if node in visited:\n",
    "                return False\n",
    "\n",
    "            visited.add(node)\n",
    "\n",
    "            for i in adjlist[node]:\n",
    "                if i == prev:\n",
    "                    continue\n",
    "                if not dfs(i, node):\n",
    "                    return False\n",
    "\n",
    "            return True\n",
    "\n",
    "        return dfs(0, -1) and len(visited) == n"
   ],
   "metadata": {
    "collapsed": false
   }
  },
  {
   "cell_type": "code",
   "execution_count": null,
   "outputs": [],
   "source": [
    "# Alternative\n",
    "\n",
    "    \"\"\"\n",
    "    @param n: An integer\n",
    "    @param edges: a list of undirected edges\n",
    "    @return: true if it's a valid tree, or false\n",
    "    \"\"\"\n",
    "    def __find(self, n: int) -> int:\n",
    "        while n != self.parents.get(n, n):\n",
    "            n = self.parents.get(n, n)\n",
    "        return n\n",
    "\n",
    "    def __connect(self, n: int, m: int) -> None:\n",
    "        pn = self.__find(n)\n",
    "        pm = self.__find(m)\n",
    "        if pn == pm:\n",
    "            return\n",
    "        if self.heights.get(pn, 1) > self.heights.get(pm, 1):\n",
    "            self.parents[pn] = pm\n",
    "        else:\n",
    "            self.parents[pm] = pn\n",
    "            self.heights[pm] = self.heights.get(pn, 1) + 1\n",
    "        self.components -= 1\n",
    "\n",
    "    def valid_tree(self, n: int, edges: List[List[int]]) -> bool:\n",
    "        # init here as not sure that ctor will be re-invoked in different tests\n",
    "        self.parents = {}\n",
    "        self.heights = {}\n",
    "        self.components = n\n",
    "\n",
    "        for e1, e2 in edges:\n",
    "            if self.__find(e1) == self.__find(e2):  # 'redundant' edge\n",
    "                return False\n",
    "            self.__connect(e1, e2)\n",
    "\n",
    "        return self.components == 1  # forest contains one tree"
   ],
   "metadata": {
    "collapsed": false
   }
  },
  {
   "cell_type": "markdown",
   "source": [
    "127. Word Ladder\n",
    "\n",
    "A transformation sequence from word beginWord to word endWord using a dictionary wordList is a sequence of words beginWord -> s1 -> s2 -> ... -> sk such that:\n",
    "\n",
    "    Every adjacent pair of words differs by a single letter.\n",
    "    Every si for 1 <= i <= k is in wordList. Note that beginWord does not need to be in wordList.\n",
    "    sk == endWord\n",
    "\n",
    "Given two words, beginWord and endWord, and a dictionary wordList, return the number of words in the shortest transformation sequence from beginWord to endWord, or 0 if no such sequence exists."
   ],
   "metadata": {
    "collapsed": false
   }
  },
  {
   "cell_type": "code",
   "execution_count": null,
   "outputs": [],
   "source": [
    "    def ladderLength(self, beginWord: str, endWord: str, wordList: List[str]) -> int:\n",
    "        if endWord not in wordList:\n",
    "            return 0\n",
    "        neighbors = defaultdict(list)\n",
    "        wordList.append(beginWord)\n",
    "        visited = set([beginWord])\n",
    "        q = deque([beginWord])\n",
    "        res = 1\n",
    "        for word in wordList:\n",
    "            for i in range(len(word)):\n",
    "                pattern = word[:i] + \"*\" + word[i + 1:]\n",
    "                neighbors[pattern].append(word)\n",
    "        while q:\n",
    "            for i in range(len(q)):\n",
    "                word = q.popleft()\n",
    "                if word == endWord:\n",
    "                    return res\n",
    "                for j in range(len(word)):\n",
    "                    pattern = word[:j] + \"*\" + word[j + 1:]\n",
    "                    for nei in neighbors[pattern]:\n",
    "                        if nei not in visited:\n",
    "                            visited.add(nei)\n",
    "                            q.append(nei)\n",
    "            res += 1\n",
    "        return 0"
   ],
   "metadata": {
    "collapsed": false
   }
  }
 ],
 "metadata": {
  "kernelspec": {
   "display_name": "Python 3",
   "language": "python",
   "name": "python3"
  },
  "language_info": {
   "codemirror_mode": {
    "name": "ipython",
    "version": 2
   },
   "file_extension": ".py",
   "mimetype": "text/x-python",
   "name": "python",
   "nbconvert_exporter": "python",
   "pygments_lexer": "ipython2",
   "version": "2.7.6"
  }
 },
 "nbformat": 4,
 "nbformat_minor": 0
}
