{
 "cells": [
  {
   "cell_type": "code",
   "execution_count": null,
   "metadata": {
    "collapsed": true
   },
   "outputs": [],
   "source": [
    "from typing import List\n",
    "import heapq"
   ]
  },
  {
   "cell_type": "markdown",
   "source": [
    "53. Maximum Subarray\n",
    "\n",
    "Given an integer array nums, find the\n",
    "subarray\n",
    "with the largest sum, and return its sum."
   ],
   "metadata": {
    "collapsed": false
   }
  },
  {
   "cell_type": "code",
   "execution_count": null,
   "outputs": [],
   "source": [
    "class Solution:\n",
    "    def maxSubArray(self, nums: List[int]) -> int:\n",
    "        maxsub = nums[0]\n",
    "        currsum = 0\n",
    "\n",
    "        for n in nums:\n",
    "            if currsum < 0:\n",
    "                currsum = 0\n",
    "            currsum += n\n",
    "            maxsub = max(maxsub, currsum)\n",
    "\n",
    "        return maxsub"
   ],
   "metadata": {
    "collapsed": false
   }
  },
  {
   "cell_type": "markdown",
   "source": [
    "55. Jump Game\n",
    "\n",
    "You are given an integer array nums. You are initially positioned at the array's first index, and each element in the array represents your maximum jump length at that position.\n",
    "\n",
    "Return true if you can reach the last index, or false otherwise."
   ],
   "metadata": {
    "collapsed": false
   }
  },
  {
   "cell_type": "code",
   "execution_count": null,
   "outputs": [],
   "source": [
    "    def canJump(self, nums: List[int]) -> bool:\n",
    "        goal = len(nums) - 1\n",
    "\n",
    "        for i in range(len(nums) - 1, -1, -1):\n",
    "            if i + nums[i] >= goal:\n",
    "                goal = i\n",
    "\n",
    "        return goal == 0"
   ],
   "metadata": {
    "collapsed": false
   }
  },
  {
   "cell_type": "markdown",
   "source": [
    "45. Jump Game II\n",
    "\n",
    "You are given a 0-indexed array of integers nums of length n. You are initially positioned at nums[0].\n",
    "\n",
    "Each element nums[i] represents the maximum length of a forward jump from index i. In other words, if you are at nums[i], you can jump to any nums[i + j] where:\n",
    "\n",
    "    0 <= j <= nums[i] and\n",
    "    i + j < n\n",
    "\n",
    "Return the minimum number of jumps to reach nums[n - 1]. The test cases are generated such that you can reach nums[n - 1]."
   ],
   "metadata": {
    "collapsed": false
   }
  },
  {
   "cell_type": "code",
   "execution_count": null,
   "outputs": [],
   "source": [
    "    def jump(self, nums: List[int]) -> int:\n",
    "        res = 0\n",
    "        l = r = 0\n",
    "\n",
    "        while r < len(nums) - 1:\n",
    "            farthest = 0\n",
    "            for i in range(l, r + 1):\n",
    "                farthest = max(farthest, i + nums[i])\n",
    "            l = r + 1\n",
    "            r = farthest\n",
    "            res += 1\n",
    "\n",
    "        return res"
   ],
   "metadata": {
    "collapsed": false
   }
  },
  {
   "cell_type": "markdown",
   "source": [
    "134. Gas Station\n",
    "\n",
    "There are n gas stations along a circular route, where the amount of gas at the ith station is gas[i].\n",
    "\n",
    "You have a car with an unlimited gas tank and it costs cost[i] of gas to travel from the ith station to its next (i + 1)th station. You begin the journey with an empty tank at one of the gas stations.\n",
    "\n",
    "Given two integer arrays gas and cost, return the starting gas station's index if you can travel around the circuit once in the clockwise direction, otherwise return -1. If there exists a solution, it is guaranteed to be unique"
   ],
   "metadata": {
    "collapsed": false
   }
  },
  {
   "cell_type": "code",
   "execution_count": null,
   "outputs": [],
   "source": [
    "    def canCompleteCircuit(self, gas: List[int], cost: List[int]) -> int:\n",
    "        if sum(gas) < sum(cost):\n",
    "            return -1\n",
    "        total = 0\n",
    "        res = 0\n",
    "\n",
    "        for i in range(len(gas)):\n",
    "            total += (gas[i] - cost[i])\n",
    "            if total < 0:\n",
    "                total = 0\n",
    "                res = i + 1\n",
    "\n",
    "        return res"
   ],
   "metadata": {
    "collapsed": false
   }
  },
  {
   "cell_type": "markdown",
   "source": [
    "846. Hand of Straights\n",
    "\n",
    "Alice has some number of cards and she wants to rearrange the cards into groups so that each group is of size groupSize, and consists of groupSize consecutive cards.\n",
    "\n",
    "Given an integer array hand where hand[i] is the value written on the ith card and an integer groupSize, return true if she can rearrange the cards, or false otherwise."
   ],
   "metadata": {
    "collapsed": false
   }
  },
  {
   "cell_type": "code",
   "execution_count": null,
   "outputs": [],
   "source": [
    "    def isNStraightHand(self, hand: List[int], groupSize: int) -> bool:\n",
    "        if len(hand) % groupSize:\n",
    "            return False\n",
    "\n",
    "        count = {}\n",
    "        for i in hand:\n",
    "            count[i] = 1 + count.get(i, 0)\n",
    "\n",
    "        minH = list(count.keys())\n",
    "        heapq.heapify(minH)\n",
    "\n",
    "        while minH:\n",
    "            n = minH[0]\n",
    "\n",
    "            for i in range(n, n + groupSize):\n",
    "                if i not in count:\n",
    "                    return False\n",
    "                count[i] =- 1\n",
    "                if count[i] == 0:\n",
    "                    if i != minH[0]:\n",
    "                        return False\n",
    "                    heapq.heappop(minH)\n",
    "\n",
    "        return True"
   ],
   "metadata": {
    "collapsed": false
   }
  },
  {
   "cell_type": "markdown",
   "source": [
    "1899. Merge Triplets to Form Target Triplet\n",
    "\n",
    "A triplet is an array of three integers. You are given a 2D integer array triplets, where triplets[i] = [ai, bi, ci] describes the ith triplet. You are also given an integer array target = [x, y, z] that describes the triplet you want to obtain.\n",
    "\n",
    "To obtain target, you may apply the following operation on triplets any number of times (possibly zero):\n",
    "\n",
    "    Choose two indices (0-indexed) i and j (i != j) and update triplets[j] to become [max(ai, aj), max(bi, bj), max(ci, cj)].\n",
    "        For example, if triplets[i] = [2, 5, 3] and triplets[j] = [1, 7, 5], triplets[j] will be updated to [max(2, 1), max(5, 7), max(3, 5)] = [2, 7, 5].\n",
    "\n",
    "Return true if it is possible to obtain the target triplet [x, y, z] as an element of triplets, or false otherwise."
   ],
   "metadata": {
    "collapsed": false
   }
  },
  {
   "cell_type": "code",
   "execution_count": null,
   "outputs": [],
   "source": [
    "    def mergeTriplets(self, triplets: List[List[int]], target: List[int]) -> bool:\n",
    "        available = set()\n",
    "        for t in triplets:\n",
    "            if (t[0] > target[0]\n",
    "                or t[1] > target[1]\n",
    "                or t[2] > target[2]):\n",
    "                continue\n",
    "            for i, v in enumerate(t):\n",
    "                if v == target[i]:\n",
    "                    available.add(i)\n",
    "\n",
    "        return len(available) == 3"
   ],
   "metadata": {
    "collapsed": false
   }
  },
  {
   "cell_type": "markdown",
   "source": [
    "763. Partition Labels\n",
    "\n",
    "You are given a string s. We want to partition the string into as many parts as possible so that each letter appears in at most one part.\n",
    "\n",
    "Note that the partition is done so that after concatenating all the parts in order, the resultant string should be s.\n",
    "\n",
    "Return a list of integers representing the size of these parts."
   ],
   "metadata": {
    "collapsed": false
   }
  },
  {
   "cell_type": "code",
   "execution_count": null,
   "outputs": [],
   "source": [
    "    def partitionLabels(self, s: str) -> List[int]:\n",
    "        idxmap = {}\n",
    "\n",
    "        for i, c in enumerate(s):\n",
    "            idxmap[c] = i\n",
    "\n",
    "        res = []\n",
    "        size = 0\n",
    "        end = -1\n",
    "\n",
    "        for i, c in enumerate(s):\n",
    "            size += 1\n",
    "            end = max(end, idxmap[c])\n",
    "\n",
    "            if i == end:\n",
    "                res.append(size)\n",
    "                size = 0\n",
    "\n",
    "        return res"
   ],
   "metadata": {
    "collapsed": false
   }
  },
  {
   "cell_type": "markdown",
   "source": [
    "678. Valid Parenthesis String\n",
    "\n",
    "Given a string s containing only three types of characters: '(', ')' and '*', return true if s is valid.\n",
    "\n",
    "The following rules define a valid string:\n",
    "\n",
    "    Any left parenthesis '(' must have a corresponding right parenthesis ')'.\n",
    "    Any right parenthesis ')' must have a corresponding left parenthesis '('.\n",
    "    Left parenthesis '(' must go before the corresponding right parenthesis ')'.\n",
    "    '*' could be treated as a single right parenthesis ')' or a single left parenthesis '(' or an empty string \"\"."
   ],
   "metadata": {
    "collapsed": false
   }
  },
  {
   "cell_type": "code",
   "execution_count": null,
   "outputs": [],
   "source": [
    "    def checkValidString(self, s: str) -> bool:\n",
    "        lmin = lmax = 0\n",
    "\n",
    "        for c in s:\n",
    "            if c == \"(\":\n",
    "                lmin += 1\n",
    "                lmax += 1\n",
    "            elif c == \")\":\n",
    "                lmin -= 1\n",
    "                lmax -= 1\n",
    "            else:\n",
    "                lmin -= 1\n",
    "                lmax += 1\n",
    "            if lmax < 0:\n",
    "                return False\n",
    "            if lmin < 0:\n",
    "                lmin = 0\n",
    "\n",
    "        return lmin == 0"
   ],
   "metadata": {
    "collapsed": false
   }
  }
 ],
 "metadata": {
  "kernelspec": {
   "display_name": "Python 3",
   "language": "python",
   "name": "python3"
  },
  "language_info": {
   "codemirror_mode": {
    "name": "ipython",
    "version": 2
   },
   "file_extension": ".py",
   "mimetype": "text/x-python",
   "name": "python",
   "nbconvert_exporter": "python",
   "pygments_lexer": "ipython2",
   "version": "2.7.6"
  }
 },
 "nbformat": 4,
 "nbformat_minor": 0
}
