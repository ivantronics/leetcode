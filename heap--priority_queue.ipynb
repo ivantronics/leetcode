{
 "cells": [
  {
   "cell_type": "code",
   "execution_count": null,
   "metadata": {
    "collapsed": true
   },
   "outputs": [],
   "source": [
    "import heapq\n",
    "from typing import List\n",
    "from collections import Counter, deque, defaultdict"
   ]
  },
  {
   "cell_type": "markdown",
   "source": [
    "703. Kth Largest Element in a Stream\n",
    "\n",
    "Design a class to find the kth largest element in a stream. Note that it is the kth largest element in the sorted order, not the kth distinct element.\n",
    "\n",
    "Implement KthLargest class:\n",
    "\n",
    "    KthLargest(int k, int[] nums) Initializes the object with the integer k and the stream of integers nums.\n",
    "    int add(int val) Appends the integer val to the stream and returns the element representing the kth largest element in the stream.\n"
   ],
   "metadata": {
    "collapsed": false
   }
  },
  {
   "cell_type": "code",
   "execution_count": null,
   "outputs": [],
   "source": [
    "class KthLargest:\n",
    "\n",
    "    def __init__(self, k: int, nums: List[int]):\n",
    "        self.minheap = nums\n",
    "        self.k = k\n",
    "        heapq.heapify(self.minheap)\n",
    "        while len(self.minheap) > k:\n",
    "            heapq.heappop(self.minheap)\n",
    "\n",
    "    def add(self, val: int) -> int:\n",
    "        heapq.heappush(self.minheap, val)\n",
    "        if len(self.minheap) > self.k:\n",
    "            heapq.heappop(self.minheap)\n",
    "        return self.minheap[0]"
   ],
   "metadata": {
    "collapsed": false
   }
  },
  {
   "cell_type": "markdown",
   "source": [
    "1046. Last Stone Weight\n",
    "\n",
    "You are given an array of integers stones where stones[i] is the weight of the ith stone.\n",
    "\n",
    "We are playing a game with the stones. On each turn, we choose the heaviest two stones and smash them together. Suppose the heaviest two stones have weights x and y with x <= y. The result of this smash is:\n",
    "\n",
    "    If x == y, both stones are destroyed, and\n",
    "    If x != y, the stone of weight x is destroyed, and the stone of weight y has new weight y - x.\n",
    "\n",
    "At the end of the game, there is at most one stone left.\n",
    "\n",
    "Return the weight of the last remaining stone. If there are no stones left, return 0."
   ],
   "metadata": {
    "collapsed": false
   }
  },
  {
   "cell_type": "code",
   "execution_count": null,
   "outputs": [],
   "source": [
    "    def lastStoneWeight(self, stones: List[int]) -> int:\n",
    "        heap = [-stone for stone in stones]\n",
    "        heapq.heapify(heap)\n",
    "        while heap and len(heap) > 1:\n",
    "            stone1 = heapq.heappop(heap) # -y\n",
    "            stone2 = heapq.heappop(heap) # -x\n",
    "            res_stone = stone1 - stone2 # - (y - x)\n",
    "            if res_stone:\n",
    "                heapq.heappush(heap, res_stone)\n",
    "        return -heap[0] if heap else 0"
   ],
   "metadata": {
    "collapsed": false
   }
  },
  {
   "cell_type": "markdown",
   "source": [
    "973. K Closest Points to Origin\n",
    "\n",
    "Given an array of points where points[i] = [xi, yi] represents a point on the X-Y plane and an integer k, return the k closest points to the origin (0, 0).\n",
    "\n",
    "The distance between two points on the X-Y plane is the Euclidean distance (i.e., √(x1 - x2)2 + (y1 - y2)2).\n",
    "\n",
    "You may return the answer in any order. The answer is guaranteed to be unique (except for the order that it is in)."
   ],
   "metadata": {
    "collapsed": false
   }
  },
  {
   "cell_type": "code",
   "execution_count": null,
   "outputs": [],
   "source": [
    "    def kClosest(self, points: List[List[int]], k: int) -> List[List[int]]:\n",
    "        minheap = []\n",
    "        for x, y in points:\n",
    "            dist = (x ** 2) + (y ** 2)\n",
    "            minheap.append([dist, x, y])\n",
    "\n",
    "        heapq.heapify(minheap)\n",
    "        res = []\n",
    "        while k > 0:\n",
    "            _, x, y = heapq.heappop(minheap)\n",
    "            res.append([x, y])\n",
    "            k -= 1\n",
    "        return res\n",
    "\n",
    "    def kClosest(self, points: List[List[int]], k: int) -> List[List[int]]:\n",
    "        points.sort(key=lambda k: k[0]*k[0]+k[1]*k[1])\n",
    "        return points[:k]"
   ],
   "metadata": {
    "collapsed": false
   }
  },
  {
   "cell_type": "markdown",
   "source": [
    "215. Kth Largest Element in an Array\n",
    "\n",
    "Given an integer array nums and an integer k, return the kth largest element in the array.\n",
    "\n",
    "Note that it is the kth largest element in the sorted order, not the kth distinct element.\n",
    "\n",
    "You must solve it in O(n) time complexity."
   ],
   "metadata": {
    "collapsed": false
   }
  },
  {
   "cell_type": "code",
   "execution_count": null,
   "outputs": [],
   "source": [
    "    def findKthLargest(self, nums: List[int], k: int) -> int:\n",
    "        k = len(nums) - k\n",
    "\n",
    "        def quickselect(l, r):\n",
    "            pivot, p = nums[r], l\n",
    "            for i in range(l, r):\n",
    "                if nums[i] <= pivot:\n",
    "                    nums[p], nums[i] = nums[i], nums[p]\n",
    "                    p += 1\n",
    "            nums[p], nums[r] = nums[r], nums[p]\n",
    "\n",
    "            if k < p: return quickselect(l, p - 1)\n",
    "            elif k > p: return quickselect(p + 1, r)\n",
    "            else: return nums[p]\n",
    "\n",
    "        return quickselect(0, len(nums) - 1)\n",
    "\n",
    "    def findKthLargest(self, nums: List[int], k: int) -> int:\n",
    "        nums.sort()\n",
    "        return nums[len(nums)-k]"
   ],
   "metadata": {
    "collapsed": false
   }
  },
  {
   "cell_type": "markdown",
   "source": [
    "621. Task Scheduler\n",
    "\n",
    "Given a characters array tasks, representing the tasks a CPU needs to do, where each letter represents a different task. Tasks could be done in any order. Each task is done in one unit of time. For each unit of time, the CPU could complete either one task or just be idle.\n",
    "\n",
    "However, there is a non-negative integer n that represents the cooldown period between two same tasks (the same letter in the array), that is that there must be at least n units of time between any two same tasks.\n",
    "\n",
    "Return the least number of units of times that the CPU will take to finish all the given tasks."
   ],
   "metadata": {
    "collapsed": false
   }
  },
  {
   "cell_type": "code",
   "execution_count": null,
   "outputs": [],
   "source": [
    "    def leastInterval(self, tasks: List[str], n: int) -> int:\n",
    "        count = Counter(tasks)\n",
    "        heap = [-i for i in count.values()]\n",
    "        heapq.heapify(heap)\n",
    "        time = 0\n",
    "        q = deque()\n",
    "\n",
    "        while heap or q:\n",
    "            time += 1\n",
    "\n",
    "            if not heap:\n",
    "                time = q[0][1]\n",
    "            else:\n",
    "                cnt = 1 + heapq.heappop(heap)\n",
    "                if cnt:\n",
    "                    q.append([cnt, time + n])\n",
    "            if q and q[0][1] == time:\n",
    "                heapq.heappush(heap, q.popleft()[0])\n",
    "        return time"
   ],
   "metadata": {
    "collapsed": false
   }
  },
  {
   "cell_type": "markdown",
   "source": [
    "355. Design Twitter\n",
    "\n",
    "Design a simplified version of Twitter where users can post tweets, follow/unfollow another user, and is able to see the 10 most recent tweets in the user's news feed.\n",
    "\n",
    "Implement the Twitter class:\n",
    "\n",
    "    Twitter() Initializes your twitter object.\n",
    "    void postTweet(int userId, int tweetId) Composes a new tweet with ID tweetId by the user userId. Each call to this function will be made with a unique tweetId.\n",
    "    List<Integer> getNewsFeed(int userId) Retrieves the 10 most recent tweet IDs in the user's news feed. Each item in the news feed must be posted by users who the user followed or by the user themself. Tweets must be ordered from most recent to least recent.\n",
    "    void follow(int followerId, int followeeId) The user with ID followerId started following the user with ID followeeId.\n",
    "    void unfollow(int followerId, int followeeId) The user with ID followerId started unfollowing the user with ID followeeId."
   ],
   "metadata": {
    "collapsed": false
   }
  },
  {
   "cell_type": "code",
   "execution_count": null,
   "outputs": [],
   "source": [
    "class Twitter:\n",
    "\n",
    "    def __init__(self):\n",
    "        self.count = 0\n",
    "        self.tweets_map = defaultdict(list)\n",
    "        self.follower_map = defaultdict(set)\n",
    "\n",
    "    def postTweet(self, userId: int, tweetId: int) -> None:\n",
    "        self.tweets_map[userId].append([self.count, tweetId])\n",
    "        self.count -= 1\n",
    "\n",
    "    def getNewsFeed(self, userId: int) -> List[int]:\n",
    "        res = []\n",
    "        heap = []\n",
    "\n",
    "        self.follower_map[userId].add(userId)\n",
    "\n",
    "        for followee in self.follower_map[userId]:\n",
    "            if followee in self.tweets_map:\n",
    "                idx = len(self.tweets_map[followee]) - 1\n",
    "                count, tweetID = self.tweets_map[followee][idx]\n",
    "                heap.append([count, tweetID, followee, idx - 1])\n",
    "\n",
    "        heapq.heapify(heap)\n",
    "\n",
    "        while heap and len(res) < 10:\n",
    "            _, tweetID, followee, idx = heapq.heappop(heap)\n",
    "            res.append(tweetID)\n",
    "            if idx >= 0:\n",
    "                count, tweetID = self.tweets_map[followee][idx]\n",
    "                heapq.heappush(heap, [count, tweetID, followee, idx - 1])\n",
    "\n",
    "        return res\n",
    "\n",
    "\n",
    "    def follow(self, followerId: int, followeeId: int) -> None:\n",
    "        self.follower_map[followerId].add(followeeId)\n",
    "\n",
    "    def unfollow(self, followerId: int, followeeId: int) -> None:\n",
    "        if followeeId in self.follower_map[followerId]:\n",
    "            self.follower_map[followerId].remove(followeeId)\n",
    "\n",
    "\n",
    "# Your Twitter object will be instantiated and called as such:\n",
    "# obj = Twitter()\n",
    "# obj.postTweet(userId,tweetId)\n",
    "# param_2 = obj.getNewsFeed(userId)\n",
    "# obj.follow(followerId,followeeId)\n",
    "# obj.unfollow(followerId,followeeId)"
   ],
   "metadata": {
    "collapsed": false
   }
  },
  {
   "cell_type": "markdown",
   "source": [
    "295. Find Median from Data Stream\n",
    "\n",
    "The median is the middle value in an ordered integer list. If the size of the list is even, there is no middle value, and the median is the mean of the two middle values.\n",
    "\n",
    "    For example, for arr = [2,3,4], the median is 3.\n",
    "    For example, for arr = [2,3], the median is (2 + 3) / 2 = 2.5.\n",
    "\n",
    "Implement the MedianFinder class:\n",
    "\n",
    "    MedianFinder() initializes the MedianFinder object.\n",
    "    void addNum(int num) adds the integer num from the data stream to the data structure.\n",
    "    double findMedian() returns the median of all elements so far. Answers within 10-5 of the actual answer will be accepted."
   ],
   "metadata": {
    "collapsed": false
   }
  },
  {
   "cell_type": "code",
   "execution_count": null,
   "outputs": [],
   "source": [
    "class MedianFinder:\n",
    "\n",
    "    def __init__(self):\n",
    "        self.small, self.large = [], []\n",
    "\n",
    "    def addNum(self, num: int) -> None:\n",
    "        if self.large and num > self.large[0]:\n",
    "            heapq.heappush(self.large, num)\n",
    "        else:\n",
    "            heapq.heappush(self.small, -1 * num)\n",
    "\n",
    "        if len(self.small) > len(self.large) + 1:\n",
    "            val = -1 * heapq.heappop(self.small)\n",
    "            heapq.heappush(self.large, val)\n",
    "        elif len(self.large) > len(self.small) + 1:\n",
    "            val = heapq.heappop(self.large)\n",
    "            heapq.heappush(self.small, -1 * val)\n",
    "\n",
    "    def findMedian(self) -> float:\n",
    "        if len(self.small) > len(self.large):\n",
    "            return -1 * self.small[0]\n",
    "        elif len(self.large) > len(self.small):\n",
    "            return self.large[0]\n",
    "        return (-1 * self.small[0] + self.large[0]) / 2\n",
    "\n",
    "\n",
    "\n",
    "\n",
    "\n",
    "# Your MedianFinder object will be instantiated and called as such:\n",
    "# obj = MedianFinder()\n",
    "# obj.addNum(num)\n",
    "# param_2 = obj.findMedian()"
   ],
   "metadata": {
    "collapsed": false
   }
  }
 ],
 "metadata": {
  "kernelspec": {
   "display_name": "Python 3",
   "language": "python",
   "name": "python3"
  },
  "language_info": {
   "codemirror_mode": {
    "name": "ipython",
    "version": 2
   },
   "file_extension": ".py",
   "mimetype": "text/x-python",
   "name": "python",
   "nbconvert_exporter": "python",
   "pygments_lexer": "ipython2",
   "version": "2.7.6"
  }
 },
 "nbformat": 4,
 "nbformat_minor": 0
}
