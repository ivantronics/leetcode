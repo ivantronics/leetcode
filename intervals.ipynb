{
 "cells": [
  {
   "cell_type": "code",
   "execution_count": null,
   "metadata": {
    "collapsed": true
   },
   "outputs": [],
   "source": [
    "from typing import List\n",
    "import heapq\n",
    "\n",
    "class Interval(object):\n",
    "    def __init__(self, start, end):\n",
    "        self.start = start\n",
    "        self.end = end"
   ]
  },
  {
   "cell_type": "markdown",
   "source": [
    "57. Insert Interval\n",
    "\n",
    "You are given an array of non-overlapping intervals intervals where intervals[i] = [starti, endi] represent the start and the end of the ith interval and intervals is sorted in ascending order by starti. You are also given an interval newInterval = [start, end] that represents the start and end of another interval.\n",
    "\n",
    "Insert newInterval into intervals such that intervals is still sorted in ascending order by starti and intervals still does not have any overlapping intervals (merge overlapping intervals if necessary).\n",
    "\n",
    "Return intervals after the insertion."
   ],
   "metadata": {
    "collapsed": false
   }
  },
  {
   "cell_type": "code",
   "execution_count": null,
   "outputs": [],
   "source": [
    "class Solution:\n",
    "    def insert(self, intervals: List[List[int]], newInterval: List[int]) -> List[List[int]]:\n",
    "        res = []\n",
    "\n",
    "        for i in range(len(intervals)):\n",
    "            if newInterval[-1] < intervals[i][0]:\n",
    "                res.append(newInterval)\n",
    "                return res + intervals[i:]\n",
    "            elif newInterval[0] > intervals[i][-1]:\n",
    "                res.append(intervals[i])\n",
    "            else:\n",
    "                newInterval = [min(newInterval[0], intervals[i][0]), max(newInterval[-1], intervals[i][-1])]\n",
    "\n",
    "        res.append(newInterval)\n",
    "\n",
    "        return res"
   ],
   "metadata": {
    "collapsed": false
   }
  },
  {
   "cell_type": "markdown",
   "source": [
    "56. Merge Intervals\n",
    "\n",
    "Given an array of intervals where intervals[i] = [starti, endi], merge all overlapping intervals, and return an array of the non-overlapping intervals that cover all the intervals in the input."
   ],
   "metadata": {
    "collapsed": false
   }
  },
  {
   "cell_type": "code",
   "execution_count": null,
   "outputs": [],
   "source": [
    "    def merge(self, intervals: List[List[int]]) -> List[List[int]]:\n",
    "        intervals.sort(key=lambda x: x[0])\n",
    "        output = [intervals[0]]\n",
    "\n",
    "        for start, end in intervals[1:]:\n",
    "            lastEnd = output[-1][-1]\n",
    "            if start <= lastEnd:\n",
    "                output[-1][-1] = max(lastEnd, end)\n",
    "            else:\n",
    "                output.append([start, end])\n",
    "\n",
    "        return output"
   ],
   "metadata": {
    "collapsed": false
   }
  },
  {
   "cell_type": "markdown",
   "source": [
    "435. Non-overlapping Intervals\n",
    "\n",
    "Given an array of intervals intervals where intervals[i] = [starti, endi], return the minimum number of intervals you need to remove to make the rest of the intervals non-overlapping."
   ],
   "metadata": {
    "collapsed": false
   }
  },
  {
   "cell_type": "code",
   "execution_count": null,
   "outputs": [],
   "source": [
    "    def eraseOverlapIntervals(self, intervals: List[List[int]]) -> int:\n",
    "        intervals.sort()\n",
    "        res = 0\n",
    "        previous_end = intervals[0][-1]\n",
    "        for start, end in intervals[1:]:\n",
    "            if start >= previous_end:\n",
    "                previous_end = end\n",
    "            else:\n",
    "                res += 1\n",
    "                previous_end = min(end, previous_end)\n",
    "        return res"
   ],
   "metadata": {
    "collapsed": false
   }
  },
  {
   "cell_type": "markdown",
   "source": [
    "920. Meeting Rooms\n",
    "\n",
    "Given an array of meeting time intervals consisting of start and end times [[s1,e1],[s2,e2],...] (si < ei), determine if a person could attend all meetings."
   ],
   "metadata": {
    "collapsed": false
   }
  },
  {
   "cell_type": "code",
   "execution_count": null,
   "outputs": [],
   "source": [
    "    def can_attend_meetings(self, intervals: List[Interval]) -> bool:\n",
    "        intervals.sort(key=lambda x: x.start)\n",
    "\n",
    "        for i in range(1, len(intervals)):\n",
    "            l1 = intervals[i - 1]\n",
    "            l2 = intervals[i]\n",
    "\n",
    "            if l1.end > l2.start:\n",
    "                return False\n",
    "\n",
    "        return True"
   ],
   "metadata": {
    "collapsed": false
   }
  },
  {
   "cell_type": "markdown",
   "source": [
    "919. Meeting Rooms II\n",
    "\n",
    "Given an array of meeting time intervals consisting of start and end times [[s1,e1],[s2,e2],...] (si < ei), find the minimum number of conference rooms required.)"
   ],
   "metadata": {
    "collapsed": false
   }
  },
  {
   "cell_type": "code",
   "execution_count": null,
   "outputs": [],
   "source": [
    "    def min_meeting_rooms(self, intervals: List[Interval]) -> int:\n",
    "        start = [i.start for i in intervals].sort()\n",
    "        end = [i.end for i in intervals].sort()\n",
    "\n",
    "        res, count = 0, 0\n",
    "        s, e = 0, 0\n",
    "\n",
    "        while s < len(intervals):\n",
    "            if start[s] < end[s]:\n",
    "                s += 1\n",
    "                count += 1\n",
    "            else:\n",
    "                e += 1\n",
    "                count -= 1\n",
    "            res = max(res, count)\n",
    "\n",
    "        return res\n",
    "\n",
    "    def minMeetingRooms(self, intervals: List[List[int]]) -> int:\n",
    "        time = []\n",
    "        for start, end in intervals:\n",
    "            time.append((start, 1))\n",
    "            time.append((end, -1))\n",
    "\n",
    "        time.sort(key=lambda x: (x[0], x[1]))\n",
    "\n",
    "        count = 0\n",
    "        max_count = 0\n",
    "        for t in time:\n",
    "            count += t[1]\n",
    "            max_count = max(max_count, count)\n",
    "        return max_count"
   ],
   "metadata": {
    "collapsed": false
   }
  },
  {
   "cell_type": "markdown",
   "source": [
    "1851. Minimum Interval to Include Each Query\n",
    "\n",
    "You are given a 2D integer array intervals, where intervals[i] = [lefti, righti] describes the ith interval starting at lefti and ending at righti (inclusive). The size of an interval is defined as the number of integers it contains, or more formally righti - lefti + 1.\n",
    "\n",
    "You are also given an integer array queries. The answer to the jth query is the size of the smallest interval i such that lefti <= queries[j] <= righti. If no such interval exists, the answer is -1.\n",
    "\n",
    "Return an array containing the answers to the queries."
   ],
   "metadata": {
    "collapsed": false
   }
  },
  {
   "cell_type": "code",
   "execution_count": null,
   "outputs": [],
   "source": [
    "    def minInterval(self, intervals: List[List[int]], queries: List[int]) -> List[int]:\n",
    "        intervals.sort()\n",
    "        heap = []\n",
    "        res = {}\n",
    "        i = 0\n",
    "        for q in sorted(queries):\n",
    "            while i < len(intervals) and intervals[i][0] <= q:\n",
    "                l, r = intervals[i]\n",
    "                heapq.heappush(heap, (r - l + 1, r))\n",
    "                i += 1\n",
    "            while heap and heap[0][1] < q:\n",
    "                heapq.heappop(heap)\n",
    "            res[q] = heap[0][0] if heap else -1\n",
    "\n",
    "        return [res[q] for q in queries]"
   ],
   "metadata": {
    "collapsed": false
   }
  }
 ],
 "metadata": {
  "kernelspec": {
   "display_name": "Python 3",
   "language": "python",
   "name": "python3"
  },
  "language_info": {
   "codemirror_mode": {
    "name": "ipython",
    "version": 2
   },
   "file_extension": ".py",
   "mimetype": "text/x-python",
   "name": "python",
   "nbconvert_exporter": "python",
   "pygments_lexer": "ipython2",
   "version": "2.7.6"
  }
 },
 "nbformat": 4,
 "nbformat_minor": 0
}
