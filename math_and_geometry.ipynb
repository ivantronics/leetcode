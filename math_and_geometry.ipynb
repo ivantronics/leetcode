{
 "cells": [
  {
   "cell_type": "code",
   "execution_count": null,
   "metadata": {
    "collapsed": true
   },
   "outputs": [],
   "source": [
    "from typing import List\n",
    "from collections import defaultdict"
   ]
  },
  {
   "cell_type": "markdown",
   "source": [
    "48. Rotate Image\n",
    "\n",
    "You are given an n x n 2D matrix representing an image, rotate the image by 90 degrees (clockwise).\n",
    "\n",
    "You have to rotate the image in-place, which means you have to modify the input 2D matrix directly. DO NOT allocate another 2D matrix and do the rotation."
   ],
   "metadata": {
    "collapsed": false
   }
  },
  {
   "cell_type": "code",
   "execution_count": null,
   "outputs": [],
   "source": [
    "class Solution:\n",
    "    def rotate(self, matrix: List[List[int]]) -> None:\n",
    "        l, r = 0, len(matrix) - 1\n",
    "        while l < r:\n",
    "            for i in range(r - l):\n",
    "                top, bottom = l, r\n",
    "\n",
    "                matrix[top][l + i], matrix[bottom - i][l], matrix[bottom][r - i], matrix[top + i][r] = matrix[bottom - i][l], matrix[bottom][r - i], matrix[top + i][r], matrix[top][l + i]\n",
    "            l += 1\n",
    "            r -= 1"
   ],
   "metadata": {
    "collapsed": false
   }
  },
  {
   "cell_type": "markdown",
   "source": [
    "54. Spiral Matrix\n",
    "\n",
    "Given an m x n matrix, return all elements of the matrix in spiral order."
   ],
   "metadata": {
    "collapsed": false
   }
  },
  {
   "cell_type": "code",
   "execution_count": null,
   "outputs": [],
   "source": [
    "    def spiralOrder(self, matrix: List[List[int]]) -> List[int]:\n",
    "        left, right = 0, len(matrix[0])\n",
    "        top, bottom = 0, len(matrix)\n",
    "        res = []\n",
    "\n",
    "        while left < right and top < bottom:\n",
    "            for i in range(left, right):\n",
    "                res.append(matrix[top][i])\n",
    "            top += 1\n",
    "\n",
    "            for i in range(top, bottom):\n",
    "                res.append(matrix[i][right - 1])\n",
    "            right -= 1\n",
    "\n",
    "            if not (left < right and top < bottom):\n",
    "                break\n",
    "\n",
    "            for i in range(right - 1, left - 1, -1):\n",
    "                res.append(matrix[bottom - 1][i])\n",
    "            bottom -= 1\n",
    "\n",
    "            for i in range(bottom - 1, top - 1, -1):\n",
    "                res.append(matrix[i][left])\n",
    "            left += 1\n",
    "\n",
    "        return res"
   ],
   "metadata": {
    "collapsed": false
   }
  },
  {
   "cell_type": "markdown",
   "source": [
    "73. Set Matrix Zeroes\n",
    "\n",
    "Given an m x n integer matrix matrix, if an element is 0, set its entire row and column to 0's.\n",
    "\n",
    "You must do it in place."
   ],
   "metadata": {
    "collapsed": false
   }
  },
  {
   "cell_type": "code",
   "execution_count": null,
   "outputs": [],
   "source": [
    "    def setZeroes(self, matrix: List[List[int]]) -> None:\n",
    "        \"\"\"\n",
    "        Do not return anything, modify matrix in-place instead.\n",
    "        \"\"\"\n",
    "        ROWS, COLS = len(matrix), len(matrix[0])\n",
    "        rowZero = False\n",
    "\n",
    "        for r in range(ROWS):\n",
    "            for c in range(COLS):\n",
    "                if matrix[r][c] == 0:\n",
    "                    matrix[0][c] = 0\n",
    "                    if r > 0:\n",
    "                        matrix[r][0] = 0\n",
    "                    else:\n",
    "                        rowZero = True\n",
    "\n",
    "        for r in range(1, ROWS):\n",
    "            for c in range(1, COLS):\n",
    "                if matrix[0][c] == 0 or matrix[r][0] == 0:\n",
    "                    matrix[r][c] = 0\n",
    "\n",
    "        if matrix[0][0] == 0:\n",
    "            for r in range(ROWS):\n",
    "                matrix[r][0] = 0\n",
    "\n",
    "        if rowZero:\n",
    "            for c in range(COLS):\n",
    "                matrix[0][c] = 0"
   ],
   "metadata": {
    "collapsed": false
   }
  },
  {
   "cell_type": "markdown",
   "source": [
    "202. Happy Number\n",
    "\n",
    "Write an algorithm to determine if a number n is happy.\n",
    "\n",
    "A happy number is a number defined by the following process:\n",
    "\n",
    "    Starting with any positive integer, replace the number by the sum of the squares of its digits.\n",
    "    Repeat the process until the number equals 1 (where it will stay), or it loops endlessly in a cycle which does not include 1.\n",
    "    Those numbers for which this process ends in 1 are happy.\n",
    "\n",
    "Return true if n is a happy number, and false if not."
   ],
   "metadata": {
    "collapsed": false
   }
  },
  {
   "cell_type": "code",
   "execution_count": null,
   "outputs": [],
   "source": [
    "    def isHappy(self, n: int) -> bool:\n",
    "        visited = set()\n",
    "\n",
    "        while n not in visited:\n",
    "            visited.add(n)\n",
    "            n = self.sumOfSquares(n)\n",
    "\n",
    "            if n == 1:\n",
    "                return True\n",
    "\n",
    "        return False\n",
    "\n",
    "    def sumOfSquares(self, n):\n",
    "        output = 0\n",
    "\n",
    "        while n:\n",
    "            digit = n % 10\n",
    "            digit = digit ** 2\n",
    "            output += digit\n",
    "            n = n // 10\n",
    "\n",
    "        return output"
   ],
   "metadata": {
    "collapsed": false
   }
  },
  {
   "cell_type": "markdown",
   "source": [
    "66. Plus One\n",
    "\n",
    "You are given a large integer represented as an integer array digits, where each digits[i] is the ith digit of the integer. The digits are ordered from most significant to least significant in left-to-right order. The large integer does not contain any leading 0's.\n",
    "\n",
    "Increment the large integer by one and return the resulting array of digits."
   ],
   "metadata": {
    "collapsed": false
   }
  },
  {
   "cell_type": "code",
   "execution_count": null,
   "outputs": [],
   "source": [
    "    def plusOne(self, digits: List[int]) -> List[int]:\n",
    "        digits = digits[::-1]\n",
    "        carry, i = 1, 0\n",
    "\n",
    "        while carry:\n",
    "            if i < len(digits):\n",
    "                if digits[i] == 9:\n",
    "                    digits[i] = 0\n",
    "                else:\n",
    "                    digits[i] += 1\n",
    "                    carry = 0\n",
    "            else:\n",
    "                digits.append(1)\n",
    "                carry = 0\n",
    "            i += 1\n",
    "        return digits[::-1]"
   ],
   "metadata": {
    "collapsed": false
   }
  },
  {
   "cell_type": "markdown",
   "source": [
    "50. Pow(x, n)\n",
    "\n",
    "Implement pow(x, n), which calculates x raised to the power n (i.e., xn)."
   ],
   "metadata": {
    "collapsed": false
   }
  },
  {
   "cell_type": "code",
   "execution_count": null,
   "outputs": [],
   "source": [
    "    def myPow(self, x: float, n: int) -> float:\n",
    "\n",
    "        def helper(x, n):\n",
    "            if x == 0:\n",
    "                return 0\n",
    "            if n == 0:\n",
    "                return 1\n",
    "            res = helper(x, n // 2)\n",
    "            res *= res\n",
    "            return x * res if n % 2 else res\n",
    "\n",
    "        res = helper(x, abs(n))\n",
    "\n",
    "        return res if n >= 0 else 1/res"
   ],
   "metadata": {
    "collapsed": false
   }
  },
  {
   "cell_type": "markdown",
   "source": [
    "43. Multiply Strings\n",
    "\n",
    "Given two non-negative integers num1 and num2 represented as strings, return the product of num1 and num2, also represented as a string.\n",
    "\n",
    "Note: You must not use any built-in BigInteger library or convert the inputs to integer directly."
   ],
   "metadata": {
    "collapsed": false
   }
  },
  {
   "cell_type": "code",
   "execution_count": null,
   "outputs": [],
   "source": [
    "    def multiply(self, num1: str, num2: str) -> str:\n",
    "        if \"0\" in [num1, num2]:\n",
    "            return \"0\"\n",
    "        res = [0] * (len(num1) + len(num2))\n",
    "        num1, num2 = num1[::-1], num2[::-1]\n",
    "\n",
    "        for i1 in range(len(num1)):\n",
    "            for i2 in range(len(num2)):\n",
    "                digit = int(num1[i1]) * int(num2[i2])\n",
    "                res[i1 + i2] += digit\n",
    "                res[i1 + i2 + 1] += res[i1 + i2] // 10\n",
    "                res[i1 + i2] = res[i1 + i2] % 10\n",
    "\n",
    "        res, beg = res[::-1], 0\n",
    "        while beg < len(res) and res[beg] == 0:\n",
    "            beg += 1\n",
    "\n",
    "        res = map(str, res[beg:])\n",
    "\n",
    "        return \"\".join(res)"
   ],
   "metadata": {
    "collapsed": false
   }
  },
  {
   "cell_type": "markdown",
   "source": [
    "2013. Detect Squares\n",
    "\n",
    "You are given a stream of points on the X-Y plane. Design an algorithm that:\n",
    "\n",
    "    Adds new points from the stream into a data structure. Duplicate points are allowed and should be treated as different points.\n",
    "    Given a query point, counts the number of ways to choose three points from the data structure such that the three points and the query point form an axis-aligned square with positive area.\n",
    "\n",
    "An axis-aligned square is a square whose edges are all the same length and are either parallel or perpendicular to the x-axis and y-axis.\n",
    "\n",
    "Implement the DetectSquares class:\n",
    "\n",
    "    DetectSquares() Initializes the object with an empty data structure.\n",
    "    void add(int[] point) Adds a new point point = [x, y] to the data structure.\n",
    "    int count(int[] point) Counts the number of ways to form axis-aligned squares with point point = [x, y] as described above.\n"
   ],
   "metadata": {
    "collapsed": false
   }
  },
  {
   "cell_type": "code",
   "execution_count": null,
   "outputs": [],
   "source": [
    "class DetectSquares:\n",
    "\n",
    "    def __init__(self):\n",
    "        self.ptsCount = defaultdict(int)\n",
    "        self.pts = []\n",
    "\n",
    "    def add(self, point: List[int]) -> None:\n",
    "        self.ptsCount[tuple(point)] += 1\n",
    "        self.pts.append(point)\n",
    "\n",
    "    def count(self, point: List[int]) -> int:\n",
    "        res = 0\n",
    "        px, py = point\n",
    "        for x, y in self.pts:\n",
    "            if abs(py - y) != abs(px - x) or x == px or y == py:\n",
    "                continue\n",
    "            res += self.ptsCount[(x, py)] * self.ptsCount[(px, y)]\n",
    "        return res\n",
    "\n",
    "# Your DetectSquares object will be instantiated and called as such:\n",
    "# obj = DetectSquares()\n",
    "# obj.add(point)\n",
    "# param_2 = obj.count(point)"
   ],
   "metadata": {
    "collapsed": false
   }
  }
 ],
 "metadata": {
  "kernelspec": {
   "display_name": "Python 3",
   "language": "python",
   "name": "python3"
  },
  "language_info": {
   "codemirror_mode": {
    "name": "ipython",
    "version": 2
   },
   "file_extension": ".py",
   "mimetype": "text/x-python",
   "name": "python",
   "nbconvert_exporter": "python",
   "pygments_lexer": "ipython2",
   "version": "2.7.6"
  }
 },
 "nbformat": 4,
 "nbformat_minor": 0
}
