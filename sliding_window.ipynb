{
 "cells": [
  {
   "cell_type": "code",
   "execution_count": null,
   "metadata": {
    "collapsed": true
   },
   "outputs": [],
   "source": [
    "from typing import List\n",
    "import collections"
   ]
  },
  {
   "cell_type": "markdown",
   "source": [
    "121. Best Time to Buy and Sell Stock\n",
    "\n",
    "You are given an array prices where prices[i] is the price of a given stock on the ith day.\n",
    "\n",
    "You want to maximize your profit by choosing a single day to buy one stock and choosing a different day in the future to sell that stock.\n",
    "\n",
    "Return the maximum profit you can achieve from this transaction. If you cannot achieve any profit, return 0."
   ],
   "metadata": {
    "collapsed": false
   }
  },
  {
   "cell_type": "code",
   "execution_count": null,
   "outputs": [],
   "source": [
    "def maxProfit(self, prices: List[int]) -> int:\n",
    "    l, r = 0, 1\n",
    "    max_profit = 0\n",
    "\n",
    "    while r < len(prices):\n",
    "        if prices[l] < prices[r]:\n",
    "            profit = prices[r] - prices[l]\n",
    "            max_profit = max(max_profit, profit)\n",
    "        else:\n",
    "            l = r\n",
    "        r += 1\n",
    "\n",
    "    return max_profit"
   ],
   "metadata": {
    "collapsed": false
   }
  },
  {
   "cell_type": "markdown",
   "source": [
    "3. Longest Substring Without Repeating Characters\n",
    "\n",
    "Given a string s, find the length of the longest substring without repeating characters."
   ],
   "metadata": {
    "collapsed": false
   }
  },
  {
   "cell_type": "code",
   "execution_count": null,
   "outputs": [],
   "source": [
    "def lengthOfLongestSubstring(self, s: str) -> int:\n",
    "    currstring = set()\n",
    "    l = 0\n",
    "    longest = 0\n",
    "    for r in range(len(s)):\n",
    "        while s[r] in currstring:\n",
    "            currstring.remove(s[l])\n",
    "            l += 1\n",
    "        currstring.add(s[r])\n",
    "        longest = max(longest, r - l + 1)\n",
    "    return longest"
   ],
   "metadata": {
    "collapsed": false
   }
  },
  {
   "cell_type": "markdown",
   "source": [
    "424. Longest Repeating Character Replacement\n",
    "\n",
    "You are given a string s and an integer k. You can choose any character of the string and change it to any other uppercase English character. You can perform this operation at most k times.\n",
    "\n",
    "Return the length of the longest substring containing the same letter you can get after performing the above operations."
   ],
   "metadata": {
    "collapsed": false
   }
  },
  {
   "cell_type": "code",
   "execution_count": null,
   "outputs": [],
   "source": [
    "def characterReplacement(self, s: str, k: int) -> int:\n",
    "    count = {}\n",
    "    res = 0\n",
    "    l = 0\n",
    "    for r in range(len(s)):\n",
    "        count[s[r]] = 1 + count.get(s[r], 0)\n",
    "        while (r - l + 1) - max(count.values()) > k:\n",
    "            count[s[l]] -= 1\n",
    "            l =+ 1\n",
    "        res = max(res, r - l + 1)\n",
    "    return res"
   ],
   "metadata": {
    "collapsed": false
   }
  },
  {
   "cell_type": "code",
   "execution_count": null,
   "outputs": [],
   "source": [
    "# optimized\n",
    "def characterReplacement(self, s: str, k: int) -> int:\n",
    "    count = {}\n",
    "    res = 0\n",
    "    l = 0\n",
    "    maxf = 0\n",
    "    for r in range(len(s)):\n",
    "        count[s[r]] = 1 + count.get(s[r], 0)\n",
    "        maxf = max(maxf, count[s[r]])\n",
    "        if (r - l + 1) - maxf > k:\n",
    "            count[s[l]] -= 1\n",
    "            l += 1\n",
    "        res = max(res, r - l + 1)\n",
    "    return res"
   ],
   "metadata": {
    "collapsed": false
   }
  },
  {
   "cell_type": "markdown",
   "source": [
    "567. Permutation in String\n",
    "\n",
    "Given two strings s1 and s2, return true if s2 contains a permutation of s1, or false otherwise.\n",
    "\n",
    "In other words, return true if one of s1's permutations is the substring of s2."
   ],
   "metadata": {
    "collapsed": false
   }
  },
  {
   "cell_type": "code",
   "execution_count": null,
   "outputs": [],
   "source": [
    "def checkInclusion(self, s1: str, s2: str) -> bool:\n",
    "    if len(s1) > len(s2):\n",
    "        return False\n",
    "    s1count, s2count = [0] * 26, [0] * 26\n",
    "    matches = 0\n",
    "    l = 0\n",
    "    for i in range(len(s1)):\n",
    "        s1count[ord(s1[i]) - ord('a')] += 1\n",
    "        s2count[ord(s2[i]) - ord('a')] += 1\n",
    "    for i in range(26):\n",
    "        matches += (1 if s1count[i] == s2count[i] else 0)\n",
    "    for r in range(len(s1), len(s2)):\n",
    "        if matches == 26:\n",
    "            return True\n",
    "\n",
    "        index = ord(s2[r]) - ord('a')\n",
    "        s2count[index] += 1\n",
    "        if s1count[index] == s2count[index]:\n",
    "            matches += 1\n",
    "        elif s1count[index] + 1 == s2count[index]:\n",
    "            matches -= 1\n",
    "\n",
    "        index = ord(s2[l]) - ord('a')\n",
    "        s2count[index] -= 1\n",
    "        if s1count[index] == s2count[index]:\n",
    "            matches += 1\n",
    "        elif s1count[index] - 1 == s2count[index]:\n",
    "            matches -= 1\n",
    "        l += 1\n",
    "    return matches == 26"
   ],
   "metadata": {
    "collapsed": false
   }
  },
  {
   "cell_type": "markdown",
   "source": [
    "76. Minimum Window Substring\n",
    "\n",
    "Given two strings s and t of lengths m and n respectively, return the minimum window\n",
    "substring\n",
    "of s such that every character in t (including duplicates) is included in the window. If there is no such substring, return the empty string \"\".\n",
    "\n",
    "The testcases will be generated such that the answer is unique."
   ],
   "metadata": {
    "collapsed": false
   }
  },
  {
   "cell_type": "code",
   "execution_count": null,
   "outputs": [],
   "source": [
    "def minWindow(self, s: str, t: str) -> str:\n",
    "    if t == \"\":\n",
    "        return \"\"\n",
    "\n",
    "    countT, countW = {}, {}\n",
    "\n",
    "    for c in t:\n",
    "        countT[c] = 1 + countT.get(c, 0)\n",
    "\n",
    "    have, need = 0, len(countT)\n",
    "    res, reslen = [-1, 1], float(\"infinity\")\n",
    "    l = 0\n",
    "    for r in range(len(s)):\n",
    "        c = s[r]\n",
    "        countW[c] = 1 + countW.get(c, 0)\n",
    "\n",
    "        if c in countT and countW[c] == countT[c]:\n",
    "            have += 1\n",
    "\n",
    "        while have == need:\n",
    "            if (r - l + 1) < reslen:\n",
    "                res = [l, r]\n",
    "                reslen = r - l + 1\n",
    "            countW[s[l]] -= 1\n",
    "            if s[l] in countT and countW[s[l]] < countT[s[l]]:\n",
    "                have -= 1\n",
    "            l += 1\n",
    "    l, r = res\n",
    "    return s[l:r+1] if reslen != float(\"infinity\") else \"\""
   ],
   "metadata": {
    "collapsed": false
   }
  },
  {
   "cell_type": "markdown",
   "source": [
    "239. Sliding Window Maximum\n",
    "\n",
    "You are given an array of integers nums, there is a sliding window of size k which is moving from the very left of the array to the very right. You can only see the k numbers in the window. Each time the sliding window moves right by one position.\n",
    "\n",
    "Return the max sliding window."
   ],
   "metadata": {
    "collapsed": false
   }
  },
  {
   "cell_type": "code",
   "execution_count": null,
   "outputs": [],
   "source": [
    "def maxSlidingWindow(self, nums: List[int], k: int) -> List[int]:\n",
    "    output = []\n",
    "    q = collections.deque()\n",
    "    l = r = 0\n",
    "\n",
    "    while r < len(nums):\n",
    "        while q and nums[q[-1]] < nums[r]:\n",
    "            q.pop()\n",
    "        q.append(r)\n",
    "\n",
    "        if l > q[0]:\n",
    "            q.popleft()\n",
    "\n",
    "        if (r + 1) >= k:\n",
    "            output.append(nums[q[0]])\n",
    "            l += 1\n",
    "        r += 1\n",
    "\n",
    "    return output"
   ],
   "metadata": {
    "collapsed": false,
    "pycharm": {
     "is_executing": true
    }
   }
  }
 ],
 "metadata": {
  "kernelspec": {
   "display_name": "Python 3",
   "language": "python",
   "name": "python3"
  },
  "language_info": {
   "codemirror_mode": {
    "name": "ipython",
    "version": 2
   },
   "file_extension": ".py",
   "mimetype": "text/x-python",
   "name": "python",
   "nbconvert_exporter": "python",
   "pygments_lexer": "ipython2",
   "version": "2.7.6"
  }
 },
 "nbformat": 4,
 "nbformat_minor": 0
}
