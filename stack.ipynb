{
 "cells": [
  {
   "cell_type": "code",
   "execution_count": null,
   "metadata": {
    "collapsed": true
   },
   "outputs": [],
   "source": [
    "from typing import List"
   ]
  },
  {
   "cell_type": "markdown",
   "source": [
    "20. Valid Parentheses\n",
    "\n",
    "Given a string s containing just the characters '(', ')', '{', '}', '[' and ']', determine if the input string is valid.\n",
    "\n",
    "An input string is valid if:\n",
    "\n",
    "    Open brackets must be closed by the same type of brackets.\n",
    "    Open brackets must be closed in the correct order.\n",
    "    Every close bracket has a corresponding open bracket of the same type.\n"
   ],
   "metadata": {
    "collapsed": false
   }
  },
  {
   "cell_type": "code",
   "execution_count": null,
   "outputs": [],
   "source": [
    "def isValid(self, s: str) -> bool:\n",
    "    stack = []\n",
    "    hashmap = {\")\" : \"(\", \"]\" : \"[\", \"}\" : \"{\"}\n",
    "    for char in s:\n",
    "        if stack and stack[-1] == hashmap.get(char):\n",
    "            stack.pop()\n",
    "        else:\n",
    "            stack.append(char)\n",
    "    return not stack"
   ],
   "metadata": {
    "collapsed": false
   }
  },
  {
   "cell_type": "markdown",
   "source": [
    "155. Min Stack\n",
    "\n",
    "Design a stack that supports push, pop, top, and retrieving the minimum element in constant time.\n",
    "\n",
    "Implement the MinStack class:\n",
    "\n",
    "    MinStack() initializes the stack object.\n",
    "    void push(int val) pushes the element val onto the stack.\n",
    "    void pop() removes the element on the top of the stack.\n",
    "    int top() gets the top element of the stack.\n",
    "    int getMin() retrieves the minimum element in the stack.\n",
    "\n",
    "You must implement a solution with O(1) time complexity for each function."
   ],
   "metadata": {
    "collapsed": false
   }
  },
  {
   "cell_type": "code",
   "execution_count": null,
   "outputs": [],
   "source": [
    "class MinStack:\n",
    "\n",
    "    def __init__(self):\n",
    "        self.stack = []\n",
    "        self.minstack = []\n",
    "\n",
    "    def push(self, val: int) -> None:\n",
    "        self.stack.append(val)\n",
    "        minval = min(self.minstack[-1] if self.minstack else val, val)\n",
    "        self.minstack.append(minval)\n",
    "\n",
    "    def pop(self) -> None:\n",
    "        self.stack.pop()\n",
    "        self.minstack.pop()\n",
    "\n",
    "    def top(self) -> int:\n",
    "        if self.stack:\n",
    "            return self.stack[-1]\n",
    "        else:\n",
    "            return None\n",
    "\n",
    "    def getMin(self) -> int:\n",
    "        if self.minstack:\n",
    "            return self.minstack[-1]\n",
    "        else:\n",
    "            return None"
   ],
   "metadata": {
    "collapsed": false
   }
  },
  {
   "cell_type": "markdown",
   "source": [
    "150. Evaluate Reverse Polish Notation\n",
    "\n",
    "You are given an array of strings tokens that represents an arithmetic expression in a Reverse Polish Notation.\n",
    "\n",
    "Evaluate the expression. Return an integer that represents the value of the expression.\n",
    "\n",
    "Note that:\n",
    "\n",
    "    The valid operators are '+', '-', '*', and '/'.\n",
    "    Each operand may be an integer or another expression.\n",
    "    The division between two integers always truncates toward zero.\n",
    "    There will not be any division by zero.\n",
    "    The input represents a valid arithmetic expression in a reverse polish notation.\n",
    "    The answer and all the intermediate calculations can be represented in a 32-bit integer.\n"
   ],
   "metadata": {
    "collapsed": false
   }
  },
  {
   "cell_type": "code",
   "execution_count": null,
   "outputs": [],
   "source": [
    "def evalRPN(self, tokens: List[str]) -> int:\n",
    "    stack = []\n",
    "    for c in tokens:\n",
    "        if c == \"+\":\n",
    "            stack.append(stack.pop() + stack.pop())\n",
    "        elif c == \"-\":\n",
    "            stack.append(-stack.pop() + stack.pop())\n",
    "        elif c == \"*\":\n",
    "            stack.append(stack.pop() * stack.pop())\n",
    "        elif c == \"/\":\n",
    "            stack.append(int(1 / stack.pop() * stack.pop()))\n",
    "        else:\n",
    "            stack.append(int(c))\n",
    "    return stack[-1]"
   ],
   "metadata": {
    "collapsed": false
   }
  },
  {
   "cell_type": "markdown",
   "source": [
    "22. Generate Parentheses\n",
    "\n",
    "Given n pairs of parentheses, write a function to generate all combinations of well-formed parentheses."
   ],
   "metadata": {
    "collapsed": false
   }
  },
  {
   "cell_type": "code",
   "execution_count": null,
   "outputs": [],
   "source": [
    "def generateParenthesis(self, n: int) -> List[str]:\n",
    "\n",
    "    res = []\n",
    "    stack = []\n",
    "\n",
    "    def backtrack(openN, closedN):\n",
    "        if openN == closedN == n:\n",
    "            res.append(\"\".join(stack))\n",
    "            return\n",
    "        if openN < n:\n",
    "            stack.append(\"(\")\n",
    "            backtrack(openN + 1, closedN)\n",
    "            stack.pop()\n",
    "        if openN > closedN:\n",
    "            stack.append(\")\")\n",
    "            backtrack(openN, closedN + 1)\n",
    "            stack.pop()\n",
    "    backtrack(0, 0)\n",
    "    return res"
   ],
   "metadata": {
    "collapsed": false
   }
  },
  {
   "cell_type": "markdown",
   "source": [
    "739. Daily Temperatures\n",
    "\n",
    "Given an array of integers temperatures represents the daily temperatures, return an array answer such that answer[i] is the number of days you have to wait after the ith day to get a warmer temperature. If there is no future day for which this is possible, keep answer[i] == 0 instead."
   ],
   "metadata": {
    "collapsed": false
   }
  },
  {
   "cell_type": "code",
   "execution_count": null,
   "outputs": [],
   "source": [
    "def dailyTemperatures(self, temperatures: List[int]) -> List[int]:\n",
    "    res = [0] * len(temperatures)\n",
    "    stack = []\n",
    "\n",
    "    for idx, temp in enumerate(temperatures):\n",
    "        while stack and temp > stack[-1][0]:\n",
    "            stackT, stackI = stack.pop()\n",
    "            res[stackI] = (idx - stackI)\n",
    "        stack.append([temp, idx])\n",
    "    return res"
   ],
   "metadata": {
    "collapsed": false
   }
  },
  {
   "cell_type": "markdown",
   "source": [
    "853. Car Fleet\n",
    "\n",
    "There are n cars going to the same destination along a one-lane road. The destination is target miles away.\n",
    "\n",
    "You are given two integer array position and speed, both of length n, where position[i] is the position of the ith car and speed[i] is the speed of the ith car (in miles per hour).\n",
    "\n",
    "A car can never pass another car ahead of it, but it can catch up to it and drive bumper to bumper at the same speed. The faster car will slow down to match the slower car's speed. The distance between these two cars is ignored (i.e., they are assumed to have the same position).\n",
    "\n",
    "A car fleet is some non-empty set of cars driving at the same position and same speed. Note that a single car is also a car fleet.\n",
    "\n",
    "If a car catches up to a car fleet right at the destination point, it will still be considered as one car fleet.\n",
    "\n",
    "Return the number of car fleets that will arrive at the destination."
   ],
   "metadata": {
    "collapsed": false
   }
  },
  {
   "cell_type": "code",
   "execution_count": null,
   "outputs": [],
   "source": [
    "def carFleet(self, target: int, position: List[int], speed: List[int]) -> int:\n",
    "    stack = []\n",
    "    chain = sorted(zip(position, speed), reverse=True)\n",
    "    for car in chain:\n",
    "        tta = (target - car[0]) / car[1]\n",
    "        if stack and stack[-1] < tta:\n",
    "            stack.append(tta)\n",
    "        elif not stack:\n",
    "            stack.append(tta)\n",
    "    return len(stack)"
   ],
   "metadata": {
    "collapsed": false
   }
  },
  {
   "cell_type": "markdown",
   "source": [
    "84. Largest Rectangle in Histogram\n",
    "\n",
    "Given an array of integers heights representing the histogram's bar height where the width of each bar is 1, return the area of the largest rectangle in the histogram."
   ],
   "metadata": {
    "collapsed": false
   }
  },
  {
   "cell_type": "code",
   "execution_count": null,
   "outputs": [],
   "source": [
    "def largestRectangleArea(self, heights: List[int]) -> int:\n",
    "    stack = [(0, heights[0])]\n",
    "    length = len(heights)\n",
    "    maxarea = 0\n",
    "    newindex = None\n",
    "    for idx, val in enumerate(heights):\n",
    "        if val >= stack[-1][-1]:\n",
    "            stack.append((idx, val))\n",
    "        else:\n",
    "            while stack and val < stack[-1][-1]:\n",
    "                currarea = (idx - stack[-1][0]) * stack[-1][1]\n",
    "                maxarea = max(maxarea, currarea)\n",
    "                newindex = stack[-1][0]\n",
    "                stack.pop()\n",
    "            stack.append((newindex, val))\n",
    "    for bar in stack:\n",
    "        currarea = (length - bar[0]) * bar[1]\n",
    "        maxarea = max(maxarea, currarea)\n",
    "    return maxarea"
   ],
   "metadata": {
    "collapsed": false
   }
  }
 ],
 "metadata": {
  "kernelspec": {
   "display_name": "Python 3",
   "language": "python",
   "name": "python3"
  },
  "language_info": {
   "codemirror_mode": {
    "name": "ipython",
    "version": 2
   },
   "file_extension": ".py",
   "mimetype": "text/x-python",
   "name": "python",
   "nbconvert_exporter": "python",
   "pygments_lexer": "ipython2",
   "version": "2.7.6"
  }
 },
 "nbformat": 4,
 "nbformat_minor": 0
}
