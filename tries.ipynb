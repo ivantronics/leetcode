{
 "cells": [
  {
   "cell_type": "code",
   "execution_count": null,
   "metadata": {
    "collapsed": true
   },
   "outputs": [],
   "source": [
    "from typing import List, Optional\n",
    "from collections import deque\n",
    "\n",
    "class TrieNode:\n",
    "\n",
    "    def __init__(self):\n",
    "        self.children = {}\n",
    "        self.endofword = False"
   ]
  },
  {
   "cell_type": "markdown",
   "source": [
    "208. Implement Trie (Prefix Tree)\n",
    "\n",
    "A trie (pronounced as \"try\") or prefix tree is a tree data structure used to efficiently store and retrieve keys in a dataset of strings. There are various applications of this data structure, such as autocomplete and spellchecker.\n",
    "\n",
    "Implement the Trie class:\n",
    "\n",
    "    Trie() Initializes the trie object.\n",
    "    void insert(String word) Inserts the string word into the trie.\n",
    "    boolean search(String word) Returns true if the string word is in the trie (i.e., was inserted before), and false otherwise.\n",
    "    boolean startsWith(String prefix) Returns true if there is a previously inserted string word that has the prefix prefix, and false otherwise.\n"
   ],
   "metadata": {
    "collapsed": false
   }
  },
  {
   "cell_type": "code",
   "execution_count": null,
   "outputs": [],
   "source": [
    "class Trie:\n",
    "\n",
    "    def __init__(self):\n",
    "        self.root = TrieNode()\n",
    "\n",
    "    def insert(self, word: str) -> None:\n",
    "        curr = self.root\n",
    "        for c in word:\n",
    "            if c not in curr.children:\n",
    "                curr.children[c] = TrieNode()\n",
    "            curr = curr.children[c]\n",
    "\n",
    "        curr.endofword = True\n",
    "\n",
    "\n",
    "    def search(self, word: str) -> bool:\n",
    "        curr = self.root\n",
    "\n",
    "        for c in word:\n",
    "            if c not in curr.children:\n",
    "                return False\n",
    "            curr = curr.children[c]\n",
    "\n",
    "        return curr.endofword\n",
    "\n",
    "    def startsWith(self, prefix: str) -> bool:\n",
    "        curr = self.root\n",
    "\n",
    "        for c in prefix:\n",
    "            if c not in curr.children:\n",
    "                return False\n",
    "            curr = curr.children[c]\n",
    "\n",
    "        return True\n",
    "\n",
    "# Your Trie object will be instantiated and called as such:\n",
    "# obj = Trie()\n",
    "# obj.insert(word)\n",
    "# param_2 = obj.search(word)\n",
    "# param_3 = obj.startsWith(prefix)"
   ],
   "metadata": {
    "collapsed": false
   }
  },
  {
   "cell_type": "markdown",
   "source": [
    "211. Design Add and Search Words Data Structure\n",
    "\n",
    "Design a data structure that supports adding new words and finding if a string matches any previously added string.\n",
    "\n",
    "Implement the WordDictionary class:\n",
    "\n",
    "    WordDictionary() Initializes the object.\n",
    "    void addWord(word) Adds word to the data structure, it can be matched later.\n",
    "    bool search(word) Returns true if there is any string in the data structure that matches word or false otherwise. word may contain dots '.' where dots can be matched with any letter.\n"
   ],
   "metadata": {
    "collapsed": false
   }
  },
  {
   "cell_type": "code",
   "execution_count": null,
   "outputs": [],
   "source": [
    "class WordDictionary:\n",
    "\n",
    "    def __init__(self):\n",
    "        self.root = TrieNode()\n",
    "\n",
    "    def addWord(self, word: str) -> None:\n",
    "        curr = self.root\n",
    "\n",
    "        for c in word:\n",
    "            if c not in curr.children:\n",
    "                curr.children[c] = TrieNode()\n",
    "            curr = curr.children[c]\n",
    "\n",
    "        curr.endofword = True\n",
    "\n",
    "    def search(self, word: str) -> bool:\n",
    "\n",
    "        def dfs(j, node):\n",
    "            curr = node\n",
    "\n",
    "            for i in range(j, len(word)):\n",
    "                c = word[i]\n",
    "\n",
    "                if c == \".\":\n",
    "                    for candidate in curr.children.values():\n",
    "                        if dfs(i + 1, candidate):\n",
    "                            return True\n",
    "                    return False\n",
    "                else:\n",
    "                    if c not in curr.children:\n",
    "                        return False\n",
    "                    curr = curr.children[c]\n",
    "\n",
    "            return curr.endofword\n",
    "\n",
    "        return dfs(0, self.root)"
   ],
   "metadata": {
    "collapsed": false
   }
  },
  {
   "cell_type": "markdown",
   "source": [
    "212. Word Search II\n",
    "\n",
    "Given an m x n board of characters and a list of strings words, return all words on the board.\n",
    "\n",
    "Each word must be constructed from letters of sequentially adjacent cells, where adjacent cells are horizontally or vertically neighboring. The same letter cell may not be used more than once in a word."
   ],
   "metadata": {
    "collapsed": false
   }
  },
  {
   "cell_type": "code",
   "execution_count": null,
   "outputs": [],
   "source": [
    "class TrieNode:\n",
    "    def __init__(self):\n",
    "        self.children = {}\n",
    "        self.isWord = False\n",
    "        self.refs = 0\n",
    "\n",
    "    def addWord(self, word):\n",
    "        cur = self\n",
    "        cur.refs += 1\n",
    "        for c in word:\n",
    "            if c not in cur.children:\n",
    "                cur.children[c] = TrieNode()\n",
    "            cur = cur.children[c]\n",
    "            cur.refs += 1\n",
    "        cur.isWord = True\n",
    "\n",
    "    def removeWord(self, word):\n",
    "        cur = self\n",
    "        cur.refs -= 1\n",
    "        for c in word:\n",
    "            if c in cur.children:\n",
    "                cur = cur.children[c]\n",
    "                cur.refs -= 1\n",
    "\n",
    "\n",
    "class Solution:\n",
    "    def findWords(self, board: List[List[str]], words: List[str]) -> List[str]:\n",
    "        root = TrieNode()\n",
    "        for w in words:\n",
    "            root.addWord(w)\n",
    "\n",
    "        ROWS, COLS = len(board), len(board[0])\n",
    "        res, visit = set(), set()\n",
    "\n",
    "        def dfs(r, c, node, word):\n",
    "            if (\n",
    "                    r not in range(ROWS)\n",
    "                    or c not in range(COLS)\n",
    "                    or board[r][c] not in node.children\n",
    "                    or node.children[board[r][c]].refs < 1\n",
    "                    or (r, c) in visit\n",
    "            ):\n",
    "                return\n",
    "\n",
    "            visit.add((r, c))\n",
    "            node = node.children[board[r][c]]\n",
    "            word += board[r][c]\n",
    "            if node.isWord:\n",
    "                node.isWord = False\n",
    "                res.add(word)\n",
    "                root.removeWord(word)\n",
    "\n",
    "            dfs(r + 1, c, node, word)\n",
    "            dfs(r - 1, c, node, word)\n",
    "            dfs(r, c + 1, node, word)\n",
    "            dfs(r, c - 1, node, word)\n",
    "            visit.remove((r, c))\n",
    "\n",
    "        for r in range(ROWS):\n",
    "            for c in range(COLS):\n",
    "                dfs(r, c, root, \"\")\n",
    "\n",
    "        return list(res)"
   ],
   "metadata": {
    "collapsed": false
   }
  }
 ],
 "metadata": {
  "kernelspec": {
   "display_name": "Python 3",
   "language": "python",
   "name": "python3"
  },
  "language_info": {
   "codemirror_mode": {
    "name": "ipython",
    "version": 2
   },
   "file_extension": ".py",
   "mimetype": "text/x-python",
   "name": "python",
   "nbconvert_exporter": "python",
   "pygments_lexer": "ipython2",
   "version": "2.7.6"
  }
 },
 "nbformat": 4,
 "nbformat_minor": 0
}
