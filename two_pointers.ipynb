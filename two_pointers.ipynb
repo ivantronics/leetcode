{
 "cells": [
  {
   "cell_type": "code",
   "execution_count": null,
   "outputs": [],
   "source": [
    "from typing import List"
   ],
   "metadata": {
    "collapsed": false
   }
  },
  {
   "cell_type": "markdown",
   "source": [
    "125. Valid Palindrome\n",
    "\n",
    "A phrase is a palindrome if, after converting all uppercase letters into lowercase letters and removing all non-alphanumeric characters, it reads the same forward and backward. Alphanumeric characters include letters and numbers.\n",
    "\n",
    "Given a string s, return true if it is a palindrome, or false otherwise."
   ],
   "metadata": {
    "collapsed": false
   }
  },
  {
   "cell_type": "code",
   "execution_count": null,
   "metadata": {
    "collapsed": true
   },
   "outputs": [],
   "source": [
    "def isPalindrome(self, s: str) -> bool:\n",
    "    s = \"\".join([c.lower() for c in s if c.isalnum()])\n",
    "    return s == s[::-1]"
   ]
  },
  {
   "cell_type": "markdown",
   "source": [
    "167. Two Sum II - Input Array Is Sorted\n",
    "\n",
    "Given a 1-indexed array of integers numbers that is already sorted in non-decreasing order, find two numbers such that they add up to a specific target number. Let these two numbers be numbers[index1] and numbers[index2] where 1 <= index1 < index2 < numbers.length.\n",
    "\n",
    "Return the indices of the two numbers, index1 and index2, added by one as an integer array [index1, index2] of length 2.\n",
    "\n",
    "The tests are generated such that there is exactly one solution. You may not use the same element twice.\n",
    "\n",
    "Your solution must use only constant extra space."
   ],
   "metadata": {
    "collapsed": false
   }
  },
  {
   "cell_type": "code",
   "execution_count": null,
   "outputs": [],
   "source": [
    "def twoSum(self, numbers: List[int], target: int) -> List[int]:\n",
    "    left, right = 0, len(numbers) - 1\n",
    "    while left < right:\n",
    "        checksum = numbers[left] + numbers[right]\n",
    "        if checksum == target:\n",
    "            return [left + 1, right + 1]\n",
    "        elif checksum > target:\n",
    "            right -= 1\n",
    "        elif checksum < target:\n",
    "            left += 1\n",
    "    return [-1, -1]"
   ],
   "metadata": {
    "collapsed": false
   }
  },
  {
   "cell_type": "markdown",
   "source": [
    "15. 3Sum\n",
    "\n",
    "Given an integer array nums, return all the triplets [nums[i], nums[j], nums[k]] such that i != j, i != k, and j != k, and nums[i] + nums[j] + nums[k] == 0.\n",
    "\n",
    "Notice that the solution set must not contain duplicate triplets."
   ],
   "metadata": {
    "collapsed": false
   }
  },
  {
   "cell_type": "code",
   "execution_count": null,
   "outputs": [],
   "source": [
    "def threeSum(self, nums: List[int]) -> List[List[int]]:\n",
    "    nums.sort()\n",
    "    res = []\n",
    "\n",
    "    for idx, val in enumerate(nums):\n",
    "        if idx > 0 and val == nums[idx - 1]:\n",
    "            continue\n",
    "        left, right = idx + 1, len(nums) - 1\n",
    "        while left < right:\n",
    "            check_sum = val + nums[left] + nums[right]\n",
    "            if check_sum < 0:\n",
    "                left += 1\n",
    "            elif check_sum > 0:\n",
    "                right -= 1\n",
    "            else:\n",
    "                res.append([val, nums[left], nums[right]])\n",
    "                left += 1\n",
    "                while nums[left] == nums[left - 1] and left < right:\n",
    "                    left += 1\n",
    "    return res"
   ],
   "metadata": {
    "collapsed": false
   }
  },
  {
   "cell_type": "markdown",
   "source": [
    "11. Container With Most Water\n",
    "\n",
    "You are given an integer array height of length n. There are n vertical lines drawn such that the two endpoints of the ith line are (i, 0) and (i, height[i]).\n",
    "\n",
    "Find two lines that together with the x-axis form a container, such that the container contains the most water.\n",
    "\n",
    "Return the maximum amount of water a container can store.\n",
    "\n",
    "Notice that you may not slant the container."
   ],
   "metadata": {
    "collapsed": false
   }
  },
  {
   "cell_type": "code",
   "execution_count": null,
   "outputs": [],
   "source": [
    "def maxArea(self, height: List[int]) -> int:\n",
    "    result: int = 0\n",
    "    left, right = 0, len(height) - 1\n",
    "    while left < right:\n",
    "        result = max(result, min(height[left], height[right]) * (right - left))\n",
    "        if height[left] <= height[right]:\n",
    "            left += 1\n",
    "        elif height[left] > height[right]:\n",
    "            right -= 1\n",
    "    return result"
   ],
   "metadata": {
    "collapsed": false
   }
  },
  {
   "cell_type": "markdown",
   "source": [
    "42. Trapping Rain Water\n",
    "\n",
    "Given n non-negative integers representing an elevation map where the width of each bar is 1, compute how much water it can trap after raining."
   ],
   "metadata": {
    "collapsed": false
   }
  },
  {
   "cell_type": "code",
   "execution_count": null,
   "outputs": [],
   "source": [
    "def trap(self, height: List[int]) -> int:\n",
    "    result = 0\n",
    "    if not height: return result\n",
    "    left, right = 0, len(height) - 1\n",
    "    maxleft, maxright = height[left], height[right]\n",
    "    while left < right:\n",
    "        if maxleft <= maxright:\n",
    "            left += 1\n",
    "            maxleft = max(maxleft, height[left])\n",
    "            result += maxleft - height[left]\n",
    "        elif maxleft > maxright:\n",
    "            right -= 1\n",
    "            maxright = max(maxright, height[right])\n",
    "            result += maxright - height[right]\n",
    "    return result"
   ],
   "metadata": {
    "collapsed": false
   }
  }
 ],
 "metadata": {
  "kernelspec": {
   "display_name": "Python 3",
   "language": "python",
   "name": "python3"
  },
  "language_info": {
   "codemirror_mode": {
    "name": "ipython",
    "version": 2
   },
   "file_extension": ".py",
   "mimetype": "text/x-python",
   "name": "python",
   "nbconvert_exporter": "python",
   "pygments_lexer": "ipython2",
   "version": "2.7.6"
  }
 },
 "nbformat": 4,
 "nbformat_minor": 0
}
